{
 "metadata": {
  "name": ""
 },
 "nbformat": 3,
 "nbformat_minor": 0,
 "worksheets": [
  {
   "cells": [
    {
     "cell_type": "code",
     "collapsed": false,
     "input": [
      "import strudel, halla"
     ],
     "language": "python",
     "metadata": {},
     "outputs": [],
     "prompt_number": 1
    },
    {
     "cell_type": "code",
     "collapsed": false,
     "input": [
      "s = strudel.Strudel( ) "
     ],
     "language": "python",
     "metadata": {},
     "outputs": [],
     "prompt_number": 2
    },
    {
     "cell_type": "code",
     "collapsed": false,
     "input": [
      "aMP = s.get_matrix_preset( ) "
     ],
     "language": "python",
     "metadata": {},
     "outputs": [],
     "prompt_number": 3
    },
    {
     "cell_type": "code",
     "collapsed": false,
     "input": [
      "aMP ##stuff that's available now"
     ],
     "language": "python",
     "metadata": {},
     "outputs": [
      {
       "metadata": {},
       "output_type": "pyout",
       "prompt_number": 4,
       "text": [
        "['mixture_uniform_linear_spike',\n",
        " 'uniform_linear_spike',\n",
        " 'normal_linear_spike',\n",
        " 'normal_sine_spike',\n",
        " 'mixture_normal_linear_spike']"
       ]
      }
     ],
     "prompt_number": 4
    },
    {
     "cell_type": "raw",
     "metadata": {},
     "source": [
      "*** Consider different types of inputs (both continuous + categorical):\n",
      "**** Uniform random, no cluster structure, linear spikes\n",
      "**** Normal random, no cluster structure, linear spikes\n",
      "**** Uniform mixture model (clusters), linear spikes\n",
      "**** Normal mixture model (clusters), linear spikes\n",
      "**** Normal random, no cluster structure, sine spike"
     ]
    },
    {
     "cell_type": "code",
     "collapsed": false,
     "input": [
      "X,A = s.generate_synthetic_data( method = \"mixture_uniform_linear_spike\" ) "
     ],
     "language": "python",
     "metadata": {},
     "outputs": [],
     "prompt_number": 7
    },
    {
     "cell_type": "code",
     "collapsed": false,
     "input": [
      "strudel.scatter(X[0], X[2])"
     ],
     "language": "python",
     "metadata": {},
     "outputs": [
      {
       "metadata": {},
       "output_type": "pyout",
       "prompt_number": 11,
       "text": [
        "<matplotlib.collections.PathCollection at 0x10e3b0550>"
       ]
      },
      {
       "metadata": {},
       "output_type": "display_data",
       "png": "[encoded data removed]",
       "text": [
        "<matplotlib.figure.Figure at 0x10d6e7b90>"
       ]
      }
     ],
     "prompt_number": 11
    },
    {
     "cell_type": "code",
     "collapsed": false,
     "input": [
      "for strMethod in aMP:\n",
      "    print s.generate_synthetic_data( method = strMethod )"
     ],
     "language": "python",
     "metadata": {},
     "outputs": [
      {
       "output_type": "stream",
       "stream": "stdout",
       "text": [
        "(array([[-0.4613688 , -0.79426939,  0.32050868, ...,  0.21208152,\n",
        "        -0.35432262, -0.96981182],\n",
        "       [-0.45963992, -0.79277281,  0.32620413, ...,  0.20560086,\n",
        "        -0.35419014, -0.97363385],\n",
        "       [ 0.82364492,  0.88227522, -0.71040968, ..., -0.49406614,\n",
        "        -0.36368033,  0.81770247],\n",
        "       ..., \n",
        "       [ 0.50890734, -0.82219971,  0.99236069, ...,  0.65722069,\n",
        "        -0.05367134, -0.40153181],\n",
        "       [-0.4599107 , -0.78058593,  0.32205626, ...,  0.21319054,\n",
        "        -0.37001198, -0.97275293],\n",
        "       [-0.4763239 , -0.77410549,  0.3004745 , ...,  0.23589437,\n",
        "        -0.35251295, -0.9946471 ]]), array([[ 1.,  1.,  0., ...,  0.,  1.,  1.],\n",
        "       [ 1.,  1.,  0., ...,  0.,  1.,  1.],\n",
        "       [ 0.,  0.,  1., ...,  0.,  0.,  0.],\n",
        "       ..., \n",
        "       [ 0.,  0.,  0., ...,  1.,  0.,  0.],\n",
        "       [ 1.,  1.,  0., ...,  0.,  1.,  1.],\n",
        "       [ 1.,  1.,  0., ...,  0.,  1.,  1.]]))\n",
        "(array([[-0.60392976,  0.99312764, -0.27088184, ...,  0.1533785 ,\n",
        "         0.22082778,  0.90708317],\n",
        "       [-0.23984164, -0.4347011 ,  0.39786292, ...,  0.43049807,\n",
        "        -0.76919496,  0.18759812],\n",
        "       [-0.76920664,  0.85087566, -0.96864059, ...,  0.34018954,\n",
        "        -0.17593821,  0.1032276 ],\n",
        "       ..., \n",
        "       [-0.76139655,  0.86645712, -0.95254859, ...,  0.33235623,\n",
        "        -0.16513984,  0.1102716 ],\n",
        "       [-0.77459812,  0.85004725, -0.97308418, ...,  0.35146795,\n",
        "        -0.19005813,  0.08832425],\n",
        "       [-0.13585278, -0.89960353, -0.74182202, ...,  0.25471146,\n",
        "        -0.00344015,  0.10067278]]), array([[ 1.,  0.,  0., ...,  0.,  0.,  0.],\n",
        "       [ 0.,  1.,  0., ...,  0.,  0.,  0.],\n",
        "       [ 0.,  0.,  1., ...,  1.,  1.,  0.],\n",
        "       ..., \n",
        "       [ 0.,  0.,  1., ...,  1.,  1.,  0.],\n",
        "       [ 0.,  0.,  1., ...,  1.,  1.,  0.],\n",
        "       [ 0.,  0.,  0., ...,  0.,  0.,  1.]]))\n",
        "(array([[-0.17929495,  0.63608411, -0.15098324, ..., -0.95254855,\n",
        "        -0.88540205, -0.01891548],\n",
        "       [ 0.76846223, -0.10726368, -0.99652279, ...,  0.97590616,\n",
        "        -0.96280293, -0.98044622],\n",
        "       [-0.24951213,  0.19340212, -0.88368898, ...,  0.48951441,\n",
        "        -0.34315547,  0.26117286],\n",
        "       ..., \n",
        "       [-0.22574209, -0.17826834, -0.66771392, ..., -0.37374603,\n",
        "        -0.552324  ,  0.24176355],\n",
        "       [-0.23607858,  0.19361149, -0.89490887, ...,  0.49652102,\n",
        "        -0.34517446,  0.26374551],\n",
        "       [-0.06753631,  0.16019423, -0.91272364, ..., -0.82272337,\n",
        "         0.33108544,  0.57210678]]), array([[ 1.,  0.,  0., ...,  0.,  0.,  0.],\n",
        "       [ 0.,  1.,  0., ...,  0.,  0.,  0.],\n",
        "       [ 0.,  0.,  1., ...,  0.,  1.,  0.],\n",
        "       ..., \n",
        "       [ 0.,  0.,  0., ...,  1.,  0.,  0.],\n",
        "       [ 0.,  0.,  1., ...,  0.,  1.,  0.],\n",
        "       [ 0.,  0.,  0., ...,  0.,  0.,  1.]]))\n",
        "(array([[-0.82291772,  0.55589025,  0.78820615, ..., -0.1925624 ,\n",
        "        -0.31706109,  0.59953942],\n",
        "       [-0.23882928, -0.48038169,  0.32553506, ..., -0.47751037,\n",
        "         0.87877657,  0.62418446],\n",
        "       [ 0.48013563,  0.16894637,  0.75650596, ..., -0.60783708,\n",
        "         0.67179298,  0.66416434],\n",
        "       ..., \n",
        "       [-0.1751364 , -0.44370388, -0.59815796, ..., -0.93766764,\n",
        "        -0.26865215,  0.1654243 ],\n",
        "       [ 0.67325755, -0.71040561, -0.95715948, ...,  0.3835793 ,\n",
        "        -0.5323513 ,  0.34752314],\n",
        "       [ 0.57816963, -0.90613451, -0.239325  , ..., -0.51042362,\n",
        "        -0.0893109 ,  0.64146192]]), array([[ 1.,  0.,  0., ...,  0.,  0.,  0.],\n",
        "       [ 0.,  1.,  0., ...,  0.,  0.,  0.],\n",
        "       [ 0.,  0.,  1., ...,  0.,  0.,  0.],\n",
        "       ..., \n",
        "       [ 0.,  0.,  0., ...,  1.,  0.,  0.],\n",
        "       [ 0.,  0.,  0., ...,  0.,  1.,  0.],\n",
        "       [ 0.,  0.,  0., ...,  0.,  0.,  1.]]))\n",
        "(array([[ 0.12425859, -0.86855137, -0.32203162, ..., -0.99295839,\n",
        "        -0.55906602, -0.66749345],\n",
        "       [ 0.80391389, -0.89395473,  0.69134969, ..., -0.12039346,\n",
        "         0.85595633,  0.16440388],\n",
        "       [-0.56440668,  0.36053842,  0.91549988, ...,  0.99162749,\n",
        "         0.4867871 ,  0.22160261],\n",
        "       ..., \n",
        "       [-0.17498015,  0.24218756,  0.36746923, ..., -0.56395586,\n",
        "        -0.74424149, -0.49379394],\n",
        "       [ 0.81789992, -0.88654959,  0.6926691 , ..., -0.11418563,\n",
        "         0.86665147,  0.16011835],\n",
        "       [ 0.80394294, -0.8975795 ,  0.70078573, ..., -0.10941329,\n",
        "         0.86167632,  0.18330696]]), array([[ 1.,  0.,  0., ...,  0.,  0.,  0.],\n",
        "       [ 0.,  1.,  0., ...,  0.,  1.,  1.],\n",
        "       [ 0.,  0.,  1., ...,  0.,  0.,  0.],\n",
        "       ..., \n",
        "       [ 0.,  0.,  0., ...,  1.,  0.,  0.],\n",
        "       [ 0.,  1.,  0., ...,  0.,  1.,  1.],\n",
        "       [ 0.,  1.,  0., ...,  0.,  1.,  1.]]))"
       ]
      },
      {
       "output_type": "stream",
       "stream": "stdout",
       "text": [
        "\n"
       ]
      }
     ],
     "prompt_number": 6
    },
    {
     "cell_type": "code",
     "collapsed": false,
     "input": [],
     "language": "python",
     "metadata": {},
     "outputs": []
    }
   ],
   "metadata": {}
  }
 ]
}