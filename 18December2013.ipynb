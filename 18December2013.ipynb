{
 "metadata": {
  "name": ""
 },
 "nbformat": 3,
 "nbformat_minor": 0,
 "worksheets": [
  {
   "cells": [
    {
     "cell_type": "raw",
     "metadata": {},
     "source": [
      "* HAllA\n",
      "** Synthetic data generation makes sense so far\n",
      "*** First hiccup seems to be in associativity of association - changes gold standard\n",
      "*** Will need to make relationships sparser as a result\n",
      "** To handle predictions for groups from the tree:\n",
      "*** When HAllA says there's a significant association, it applies equally to all elements in the group\n",
      "*** Make sure to apply this AFTER multiple hypothesis correction\n",
      "** Right now, HAllA tests for positive association at each node\n",
      "*** This is very similar to taking a MI-based MDS and correlating components\n",
      "*** I would recommend switching this to an exclusion rather than inclusion criterion\n",
      "*** That is, test whether a particular node CANNOT include an association\n",
      "*** Then you combine with a positive test for \"identity\" that's equivalent to stopping at a minimum depth in tree\n",
      "** Two next steps\n",
      "*** Implement that change for Monday (circulate)\n",
      "*** Implement the rest of the evaluation for Jan. 6th\n"
     ]
    },
    {
     "cell_type": "code",
     "collapsed": false,
     "input": [],
     "language": "python",
     "metadata": {},
     "outputs": []
    }
   ],
   "metadata": {}
  }
 ]
}