{
 "metadata": {
  "name": ""
 },
 "nbformat": 3,
 "nbformat_minor": 0,
 "worksheets": [
  {
   "cells": [
    {
     "cell_type": "code",
     "collapsed": false,
     "input": [
      "##Import necessary modules; reload for subsequent edits \n",
      "import strudel, halla, numpy\n",
      "reload(strudel) ; reload(halla) ; reload(numpy)"
     ],
     "language": "python",
     "metadata": {},
     "outputs": [
      {
       "metadata": {},
       "output_type": "pyout",
       "prompt_number": 4,
       "text": [
        "<module 'numpy' from '/usr/local/lib/python2.7/dist-packages/numpy/__init__.pyc'>"
       ]
      }
     ],
     "prompt_number": 4
    },
    {
     "cell_type": "code",
     "collapsed": false,
     "input": [
      "##Set parameters \n",
      "iRow, iCol = 20, 1000\n",
      "iIter = 3\n",
      "s = strudel.Strudel( ) \n",
      "s.set_base( \"normal\" )\n",
      "s.set_base_param( (0,1) )\n",
      "s.set_noise( 0.1 ) "
     ],
     "language": "python",
     "metadata": {},
     "outputs": [],
     "prompt_number": 5
    },
    {
     "cell_type": "code",
     "collapsed": false,
     "input": [
      "##Generate synthetic data \n",
      "X = s.randmat( shape = (iRow, iCol) ) \n",
      "Y,A = s.spike_synthetic_data( X, sparsity = 0.5, spike_method = \"sine\" )"
     ],
     "language": "python",
     "metadata": {},
     "outputs": [],
     "prompt_number": 6
    },
    {
     "cell_type": "code",
     "collapsed": false,
     "input": [
      "##Run iIter iterations of halla pipeline\n",
      "A_emp = [] \n",
      "for i in range(iIter):\n",
      "    print \"Running iteration \" + str(i)\n",
      "    h = halla.HAllA( X,Y ) \n",
      "    A_emp.append(h.run()[0])\n",
      "    "
     ],
     "language": "python",
     "metadata": {},
     "outputs": [
      {
       "output_type": "stream",
       "stream": "stdout",
       "text": [
        "Running iteration 0\n",
        "Running iteration 1"
       ]
      },
      {
       "output_type": "stream",
       "stream": "stdout",
       "text": [
        "\n",
        "Running iteration 2"
       ]
      },
      {
       "output_type": "stream",
       "stream": "stdout",
       "text": [
        "\n"
       ]
      }
     ],
     "prompt_number": 7
    },
    {
     "cell_type": "code",
     "collapsed": false,
     "input": [
      "##Set meta objects \n",
      "A_emp_flatten = [1.0 - numpy.reshape( a, iRow**2 ) for a in A_emp]\n",
      "A_flatten = [numpy.reshape( A, iRow**2 ) for _ in range(iIter)]"
     ],
     "language": "python",
     "metadata": {},
     "outputs": [],
     "prompt_number": 8
    },
    {
     "cell_type": "code",
     "collapsed": false,
     "input": [
      "#A_emp_flatten"
     ],
     "language": "python",
     "metadata": {},
     "outputs": [],
     "prompt_number": 9
    },
    {
     "cell_type": "code",
     "collapsed": false,
     "input": [
      "#A_flatten"
     ],
     "language": "python",
     "metadata": {},
     "outputs": [],
     "prompt_number": 10
    },
    {
     "cell_type": "code",
     "collapsed": false,
     "input": [
      "##Generate roc curves \n",
      "aROC = s.roc(A_flatten, A_emp_flatten, [\"run \" + str(i) for i in range(iIter)])"
     ],
     "language": "python",
     "metadata": {},
     "outputs": [
      {
       "metadata": {},
       "output_type": "display_data",
       "png": "[encoded data removed]",
       "text": [
        "<matplotlib.figure.Figure at 0x3e8d590>"
       ]
      }
     ],
     "prompt_number": 11
    },
    {
     "cell_type": "code",
     "collapsed": false,
     "input": [
      "##Average roc value \n",
      "print \"%0.3f\" %numpy.average( aROC ) "
     ],
     "language": "python",
     "metadata": {},
     "outputs": [
      {
       "output_type": "stream",
       "stream": "stdout",
       "text": [
        "0.754\n"
       ]
      }
     ],
     "prompt_number": 12
    },
    {
     "cell_type": "code",
     "collapsed": false,
     "input": [],
     "language": "python",
     "metadata": {},
     "outputs": []
    }
   ],
   "metadata": {}
  }
 ]
}