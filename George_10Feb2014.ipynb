{
 "metadata": {
  "name": ""
 },
 "nbformat": 3,
 "nbformat_minor": 0,
 "worksheets": [
  {
   "cells": [
    {
     "cell_type": "code",
     "collapsed": false,
     "input": [
      "import strudel, halla"
     ],
     "language": "python",
     "metadata": {},
     "outputs": [],
     "prompt_number": 39
    },
    {
     "cell_type": "code",
     "collapsed": false,
     "input": [
      "s = strudel.Strudel( ) \n",
      "s.set_base( \"normal\" ) \n",
      "s.set_noise( 0.1 ) \n",
      "X = s.randmat( shape = 100 ) \n",
      "Y = s.spike( X, strMethod = \"parabola\" ) \n",
      "Z,A = s.generate_synthetic_data( num_var = 100, sparsity = 0.1 ) "
     ],
     "language": "python",
     "metadata": {},
     "outputs": [
      {
       "output_type": "stream",
       "stream": "stdout",
       "text": [
        "[0, 1, 0, 1, 1, 0, 1, 1, 1, 1, 1, 1, 1, 1, 1, 0, 1, 1, 1, 1, 1, 1, 1, 1, 1, 1, 1, 1, 1, 0, 1, 1, 1, 0, 1, 1, 1, 1, 1, 1, 1, 1, 1, 1, 1, 1, 1, 1, 1, 1, 1, 1, 1, 1, 1, 0, 1, 1, 1, 1, 1, 1, 1, 1, 0, 1, 1, 0, 1, 1, 1, 1, 1, 0, 1, 0, 1, 1, 1, 1, 1, 1, 1, 1, 1, 1, 1, 1, 1, 0, 1, 1, 1, 1, 1, 1, 1, 1, 1, 1]\n"
       ]
      }
     ],
     "prompt_number": 40
    },
    {
     "cell_type": "raw",
     "metadata": {},
     "source": [
      "'Get' Methods "
     ]
    },
    {
     "cell_type": "code",
     "collapsed": false,
     "input": [
      "reload(strudel); s= strudel.Strudel( ) "
     ],
     "language": "python",
     "metadata": {},
     "outputs": [],
     "prompt_number": 43
    },
    {
     "cell_type": "code",
     "collapsed": false,
     "input": [
      "s.get_spike_method() "
     ],
     "language": "python",
     "metadata": {},
     "outputs": [
      {
       "metadata": {},
       "output_type": "pyout",
       "prompt_number": 44,
       "text": [
        "['log', 'parabola', 'cubic', 'vee', 'half_circle', 'sine', 'linear']"
       ]
      }
     ],
     "prompt_number": 44
    },
    {
     "cell_type": "code",
     "collapsed": false,
     "input": [
      "s.get_association_method()"
     ],
     "language": "python",
     "metadata": {},
     "outputs": [
      {
       "metadata": {},
       "output_type": "pyout",
       "prompt_number": 45,
       "text": [
        "['spearman',\n",
        " 'pearson',\n",
        " 'kw',\n",
        " 'norm_mid',\n",
        " 'mi',\n",
        " 'x2',\n",
        " 'fisher',\n",
        " 'norm_mi',\n",
        " 'anova']"
       ]
      }
     ],
     "prompt_number": 45
    },
    {
     "cell_type": "code",
     "collapsed": false,
     "input": [
      "s.get_distribution_method()"
     ],
     "language": "python",
     "metadata": {},
     "outputs": [
      {
       "metadata": {},
       "output_type": "pyout",
       "prompt_number": 46,
       "text": [
        "['lognormal',\n",
        " 'dirichlet',\n",
        " 'linear',\n",
        " 'normal',\n",
        " 'invgamma',\n",
        " 'pareto',\n",
        " 'beta',\n",
        " 'gamma',\n",
        " 'uniform']"
       ]
      }
     ],
     "prompt_number": 46
    },
    {
     "cell_type": "raw",
     "metadata": {},
     "source": [
      "Association Fixed"
     ]
    },
    {
     "cell_type": "code",
     "collapsed": false,
     "input": [
      "s.association( X,Y, strMethod = \"pearson\" ) "
     ],
     "language": "python",
     "metadata": {},
     "outputs": [
      {
       "metadata": {},
       "output_type": "pyout",
       "prompt_number": 29,
       "text": [
        "-0.3521985432780223"
       ]
      }
     ],
     "prompt_number": 29
    },
    {
     "cell_type": "code",
     "collapsed": false,
     "input": [
      "s.association( X,Y, strMethod = \"norm_mi\" ) "
     ],
     "language": "python",
     "metadata": {},
     "outputs": [
      {
       "metadata": {},
       "output_type": "pyout",
       "prompt_number": 30,
       "text": [
        "1.0"
       ]
      }
     ],
     "prompt_number": 30
    },
    {
     "cell_type": "code",
     "collapsed": false,
     "input": [
      "Z"
     ],
     "language": "python",
     "metadata": {},
     "outputs": [
      {
       "metadata": {},
       "output_type": "pyout",
       "prompt_number": 31,
       "text": [
        "array([[-1.43272599, -5.46673485, -0.92516463, ..., -0.07394331,\n",
        "         0.29446344, -3.5183261 ],\n",
        "       [ 0.98758239, -3.70378875, -2.02767045, ...,  1.19404223,\n",
        "         1.07188484, -0.60806216],\n",
        "       [ 0.18495316, -2.47970355, -3.45962978, ..., -0.67381465,\n",
        "        -2.40209128, -3.86163101],\n",
        "       ..., \n",
        "       [ 0.92288912, -3.74745148, -1.91338508, ...,  1.21526808,\n",
        "         1.07887057, -0.59895466],\n",
        "       [ 1.12049835,  3.64633331,  2.10527674, ...,  1.08179453,\n",
        "         1.33253382,  0.6044559 ],\n",
        "       [ 1.00112015, -3.6130896 , -2.0846013 , ...,  1.22930743,\n",
        "         0.82768382, -0.65406526]])"
       ]
      }
     ],
     "prompt_number": 31
    },
    {
     "cell_type": "code",
     "collapsed": false,
     "input": [
      "A"
     ],
     "language": "python",
     "metadata": {},
     "outputs": [
      {
       "metadata": {},
       "output_type": "pyout",
       "prompt_number": 32,
       "text": [
        "array([[ 1.,  0.,  0., ...,  0.,  0.,  0.],\n",
        "       [ 0.,  1.,  0., ...,  1.,  1.,  1.],\n",
        "       [ 0.,  0.,  1., ...,  0.,  0.,  0.],\n",
        "       ..., \n",
        "       [ 0.,  1.,  0., ...,  1.,  1.,  1.],\n",
        "       [ 0.,  1.,  0., ...,  1.,  1.,  1.],\n",
        "       [ 0.,  1.,  0., ...,  1.,  1.,  1.]])"
       ]
      }
     ],
     "prompt_number": 32
    },
    {
     "cell_type": "code",
     "collapsed": false,
     "input": [
      "P = s.compare(Z,A, strMethod = \"norm_mi\")"
     ],
     "language": "python",
     "metadata": {},
     "outputs": [],
     "prompt_number": 33
    },
    {
     "cell_type": "code",
     "collapsed": false,
     "input": [
      "P[:,0] ##these are the \"bags\" indices "
     ],
     "language": "python",
     "metadata": {},
     "outputs": [
      {
       "metadata": {},
       "output_type": "pyout",
       "prompt_number": 34,
       "text": [
        "array([(0, 0), (0, 1), (0, 2), ..., (99, 97), (99, 98), (99, 99)], dtype=object)"
       ]
      }
     ],
     "prompt_number": 34
    },
    {
     "cell_type": "code",
     "collapsed": false,
     "input": [
      "P[:,1] ## these are the probability values (1-pval)"
     ],
     "language": "python",
     "metadata": {},
     "outputs": [
      {
       "metadata": {},
       "output_type": "pyout",
       "prompt_number": 35,
       "text": [
        "array([1.0, 0.18823202437529279, 0.20549711058331938, ...,\n",
        "       0.73350349822017014, 0.60479020207559497, 1.0], dtype=object)"
       ]
      }
     ],
     "prompt_number": 35
    },
    {
     "cell_type": "code",
     "collapsed": false,
     "input": [
      "P[:,2] ## these are the true labels"
     ],
     "language": "python",
     "metadata": {},
     "outputs": [
      {
       "metadata": {},
       "output_type": "pyout",
       "prompt_number": 36,
       "text": [
        "array([1.0, 0.0, 0.0, ..., 1.0, 1.0, 1.0], dtype=object)"
       ]
      }
     ],
     "prompt_number": 36
    },
    {
     "cell_type": "code",
     "collapsed": false,
     "input": [
      "P[5] ##for instance this means that variable 0 in X and \n",
      "## variable 5 in Y has a probability of being a true label \n",
      "## corresponding to the second entry, \n",
      "## and it has an association value given by the third entry "
     ],
     "language": "python",
     "metadata": {},
     "outputs": [
      {
       "metadata": {},
       "output_type": "pyout",
       "prompt_number": 37,
       "text": [
        "array([(0, 5), 0.19572834857179081, 0.0], dtype=object)"
       ]
      }
     ],
     "prompt_number": 37
    },
    {
     "cell_type": "code",
     "collapsed": false,
     "input": [
      "s.roc( P[:,2], P[:,1] )"
     ],
     "language": "python",
     "metadata": {},
     "outputs": [
      {
       "metadata": {},
       "output_type": "display_data",
       "png": "[encoded data removed]",
       "text": [
        "<matplotlib.figure.Figure at 0x2b40110>"
       ]
      },
      {
       "metadata": {},
       "output_type": "pyout",
       "prompt_number": 38,
       "text": [
        "0.88023455207665735"
       ]
      }
     ],
     "prompt_number": 38
    },
    {
     "cell_type": "raw",
     "metadata": {},
     "source": [
      "To keep in mind when writing wrappers \n",
      "==========================================\n",
      "What I mean by vectorizing the code:\n",
      "Throw in comparisons of different association methods (pearson, mi, norm_mi, etc)\n",
      "and then have this plot them all in one ROC curve; this should be taken care of by a single function; it can handle polymorphism natively. "
     ]
    },
    {
     "cell_type": "raw",
     "metadata": {},
     "source": [
      "Knitr-like functions\n",
      "=======================\n",
      "Let's have a principled way of generating reports; for example, I can give the test module an arbitrary number of flags corresponding to the different actions I want it to take, and the module generates all of those results and produces HTML/PDF output which is easily seen by the reader \n",
      "\n",
      "Config functions \n",
      "====================\n",
      "* I want to make a general configuration module/object that can map between a hash of user-specified behavior and the commandArgs that needs to be passed in \n",
      "* This is because nobody wants to remember all the arguments that you need to pass into module \n",
      "* Also, users can potentially give the hash pointers to their own functions, make test pipelines arbitrarily complex \n",
      "** I have been thinking about this for a while now, but didn't have time to implement -- perhaps helpful to think about how best to do this\n",
      "** Familiar with this? How feasible to quickly make proof-of-concept? \n",
      "\n",
      "General Logistics \n",
      "======================\n",
      "* Let's make sure to have all the items on the agenda done by Wednesday \n",
      "\n",
      "\n",
      "As a reminder:\n",
      "\n",
      "\"\"\"\n",
      "* HAllA\n",
      "** Implementation design, modularity, overall structure, and first tests in IPython look good\n",
      "** Evaluation\n",
      "*** Four areas to consider: different types of inputs, different parameter settings, different competitors, different output evaluations\n",
      "*** Last is easy - we can focus on simple ROCs for the forseeable future\n",
      "*** Competitors to consider as a baseline:\n",
      "**** Feature-wise parametric tests:\n",
      "***** Pearson = continuous/continuous\n",
      "***** ANOVA = continuous/categorical\n",
      "***** X2/Fishers = categorical/categorical\n",
      "**** Feature-wise nonparametric tests:\n",
      "***** Spearman = continuous/continuous\n",
      "***** K-W = continuous/categorical\n",
      "***** X2/Fishers = categorical/categorical\n",
      "*** Consider different types of inputs (both continuous + categorical):\n",
      "**** Uniform random, no cluster structure, linear spikes\n",
      "**** Normal random, no cluster structure, linear spikes\n",
      "**** Uniform mixture model (clusters), linear spikes\n",
      "**** Normal mixture model (clusters), linear spikes\n",
      "**** Normal random, no cluster structure, sine spike\n",
      "\"\"\"\n",
      "\n",
      "* Parameteric tests are almost done, I will provide the different model types \n",
      "** This is currently wrapped around \"Strudel.spike\" object "
     ]
    }
   ],
   "metadata": {}
  }
 ]
}