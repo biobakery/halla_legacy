{
 "metadata": {
  "name": ""
 },
 "nbformat": 3,
 "nbformat_minor": 0,
 "worksheets": [
  {
   "cells": [
    {
     "cell_type": "heading",
     "level": 1,
     "metadata": {},
     "source": [
      "HAllA Baseline Test #2: 5 December 2013"
     ]
    },
    {
     "cell_type": "raw",
     "metadata": {},
     "source": [
      "* HAllA\n",
      "** IPython report + doctests look good\n",
      "*** Save these in docs folder in Dropbox\n",
      "** Next step is to build a performance evaluation\n",
      "*** Small number of specific relationship types\n",
      "*** Evaluate how we'll they're associated with each other using...\n",
      "**** Naive all-against-all by a handful of measures\n",
      "**** HAllA using the same handful of different measures as its base\n",
      "**** HAllA turning on or off the different protocol options\n",
      "*** Make sure these are realistically sized\n",
      "**** e.g. 10s to 100s of samples, 100s to 10000s of features\n",
      "*** To start out with, everything can be simple normally distributed continuous\n",
      "*** Bottom this out with a ROC-like plot comparing the various methods\n",
      "*** Circulate this by next Wednesday (Dec. 11th)"
     ]
    },
    {
     "cell_type": "code",
     "collapsed": false,
     "input": [],
     "language": "python",
     "metadata": {},
     "outputs": []
    }
   ],
   "metadata": {}
  }
 ]
}