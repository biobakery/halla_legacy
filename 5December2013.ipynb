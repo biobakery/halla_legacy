{
 "metadata": {
  "name": ""
 },
 "nbformat": 3,
 "nbformat_minor": 0,
 "worksheets": [
  {
   "cells": [
    {
     "cell_type": "heading",
     "level": 1,
     "metadata": {},
     "source": [
      "HAllA Baseline Test #2: 5 December 2013"
     ]
    },
    {
     "cell_type": "raw",
     "metadata": {},
     "source": [
      "* HAllA\n",
      "** IPython report + doctests look good\n",
      "*** Save these in docs folder in Dropbox\n",
      "** Next step is to build a performance evaluation\n",
      "*** Small number of specific relationship types\n",
      "*** Evaluate how well they're associated with each other using...\n",
      "**** Naive all-against-all by a handful of measures\n",
      "**** HAllA using the same handful of different measures as its base\n",
      "**** HAllA turning on or off the different protocol options\n",
      "*** Make sure these are realistically sized\n",
      "**** e.g. 10s to 100s of samples, 100s to 10000s of features\n",
      "*** To start out with, everything can be simple normally distributed continuous\n",
      "*** Bottom this out with a ROC-like plot comparing the various methods\n",
      "*** Circulate this by next Wednesday (Dec. 11th)"
     ]
    },
    {
     "cell_type": "raw",
     "metadata": {},
     "source": [
      "* Will need to get empirical p-values from HALLA; generate ROC plot\n",
      "* Have matrix with known labels; i < j for optimality .. but can be full array for now "
     ]
    },
    {
     "cell_type": "code",
     "collapsed": false,
     "input": [
      "import strudel\n",
      "import halla\n",
      "import halla.stats \n",
      "import halla.hierarchy\n",
      "import halla.distance \n",
      "import matplotlib.pyplot as plt\n",
      "import numpy, scipy"
     ],
     "language": "python",
     "metadata": {},
     "outputs": [],
     "prompt_number": 1
    },
    {
     "cell_type": "code",
     "collapsed": false,
     "input": [
      "s = strudel.Strudel() "
     ],
     "language": "python",
     "metadata": {},
     "outputs": [],
     "prompt_number": 2
    },
    {
     "cell_type": "code",
     "collapsed": false,
     "input": [
      "x = s.generate_clustered_data( 3, 3, 1000 )"
     ],
     "language": "python",
     "metadata": {},
     "outputs": [
      {
       "output_type": "stream",
       "stream": "stdout",
       "text": [
        "-0.0153916442866 4.44594511589\n",
        "4.98804763742 1.77228473578\n",
        "10.0015803952 0.237495004675\n"
       ]
      }
     ],
     "prompt_number": 3
    },
    {
     "cell_type": "code",
     "collapsed": false,
     "input": [
      "x"
     ],
     "language": "python",
     "metadata": {},
     "outputs": [
      {
       "metadata": {},
       "output_type": "pyout",
       "prompt_number": 4,
       "text": [
        "array([[ -4.9133575 ,  -4.56253054,  -3.67724395, ...,  -1.19174439,\n",
        "         -0.24382519,   9.12735661],\n",
        "       [  1.36480564,  -2.77164933,   1.49104888, ..., -10.08469861,\n",
        "         -2.92184163,   5.98809412],\n",
        "       [ -5.84528846,   6.47888028,   4.12277258, ...,  -4.10052397,\n",
        "         -2.17933534,  -0.58923539],\n",
        "       ..., \n",
        "       [  9.79997904,  10.53972351,  10.35834278, ...,  10.56566795,\n",
        "         10.13247302,   9.98263634],\n",
        "       [  9.8574378 ,   9.94696626,   9.62039522, ...,  10.07396984,\n",
        "         10.10270511,  10.24776487],\n",
        "       [ 10.2226538 ,  10.19255526,  10.01472949, ...,   9.76615219,\n",
        "         10.06081487,  10.24278323]])"
       ]
      }
     ],
     "prompt_number": 4
    },
    {
     "cell_type": "code",
     "collapsed": false,
     "input": [
      "x.shape"
     ],
     "language": "python",
     "metadata": {},
     "outputs": [
      {
       "metadata": {},
       "output_type": "pyout",
       "prompt_number": 5,
       "text": [
        "(9, 1000)"
       ]
      }
     ],
     "prompt_number": 5
    },
    {
     "cell_type": "code",
     "collapsed": false,
     "input": [
      "figure()\n",
      "for i in range(3):\n",
      "    hist(x[i])\n",
      "figure()\n",
      "for i in range(3,6):\n",
      "    hist(x[i])\n",
      "figure()\n",
      "for i in range(6,9):\n",
      "    hist(x[i])"
     ],
     "language": "python",
     "metadata": {},
     "outputs": [
      {
       "metadata": {},
       "output_type": "display_data",
       "png": "[encoded data removed]",
       "text": [
        "<matplotlib.figure.Figure at 0x600b710>"
       ]
      },
      {
       "metadata": {},
       "output_type": "display_data",
       "png": "[encoded data removed]",
       "text": [
        "<matplotlib.figure.Figure at 0x600bbd0>"
       ]
      },
      {
       "metadata": {},
       "output_type": "display_data",
       "png": "[encoded data removed]",
       "text": [
        "<matplotlib.figure.Figure at 0x6170bd0>"
       ]
      }
     ],
     "prompt_number": 6
    },
    {
     "cell_type": "code",
     "collapsed": false,
     "input": [
      "dx = halla.stats.discretize( x )"
     ],
     "language": "python",
     "metadata": {},
     "outputs": [],
     "prompt_number": 7
    },
    {
     "cell_type": "code",
     "collapsed": false,
     "input": [
      "lxmi = halla.hierarchy.hclust( dx, pdist_metric = halla.distance.norm_mid )"
     ],
     "language": "python",
     "metadata": {},
     "outputs": [],
     "prompt_number": 8
    },
    {
     "cell_type": "code",
     "collapsed": false,
     "input": [
      "halla.hierarchy.dendrogram(lxmi)"
     ],
     "language": "python",
     "metadata": {},
     "outputs": [
      {
       "metadata": {},
       "output_type": "pyout",
       "prompt_number": 9,
       "text": [
        "{'color_list': ['b', 'b', 'b', 'b', 'b', 'b', 'b', 'b'],\n",
        " 'dcoord': [[0.0, 0.82706391432214588, 0.82706391432214588, 0.0],\n",
        "  [0.0, 0.83289577811284521, 0.83289577811284521, 0.82706391432214588],\n",
        "  [0.0, 0.83055897884543717, 0.83055897884543717, 0.0],\n",
        "  [0.0, 0.83057113227087387, 0.83057113227087387, 0.0],\n",
        "  [0.0, 0.83493395999008568, 0.83493395999008568, 0.83057113227087387],\n",
        "  [0.83055897884543717,\n",
        "   0.83549277289154034,\n",
        "   0.83549277289154034,\n",
        "   0.83493395999008568],\n",
        "  [0.83289577811284521,\n",
        "   0.8357018549641223,\n",
        "   0.8357018549641223,\n",
        "   0.83549277289154034],\n",
        "  [0.0, 0.83612882660371102, 0.83612882660371102, 0.8357018549641223]],\n",
        " 'icoord': [[25.0, 25.0, 35.0, 35.0],\n",
        "  [15.0, 15.0, 30.0, 30.0],\n",
        "  [45.0, 45.0, 55.0, 55.0],\n",
        "  [75.0, 75.0, 85.0, 85.0],\n",
        "  [65.0, 65.0, 80.0, 80.0],\n",
        "  [50.0, 50.0, 72.5, 72.5],\n",
        "  [22.5, 22.5, 61.25, 61.25],\n",
        "  [5.0, 5.0, 41.875, 41.875]],\n",
        " 'ivl': ['1', '8', '2', '3', '0', '5', '6', '4', '7'],\n",
        " 'leaves': [1, 8, 2, 3, 0, 5, 6, 4, 7]}"
       ]
      },
      {
       "metadata": {},
       "output_type": "display_data",
       "png": "[encoded data removed]",
       "text": [
        "<matplotlib.figure.Figure at 0x654e7d0>"
       ]
      }
     ],
     "prompt_number": 9
    },
    {
     "cell_type": "code",
     "collapsed": false,
     "input": [
      "tx = halla.hierarchy.to_tree( lxmi ) "
     ],
     "language": "python",
     "metadata": {},
     "outputs": [],
     "prompt_number": 10
    },
    {
     "cell_type": "code",
     "collapsed": false,
     "input": [
      "pOut = halla.hierarchy.all_against_all( tx, tx, x, x, method=\"permutation_test_by_representative\" )\n",
      "plt.plot( sorted( zip(*pOut)[1] ) )\n",
      "pOut"
     ],
     "language": "python",
     "metadata": {},
     "outputs": [
      {
       "metadata": {},
       "output_type": "pyout",
       "prompt_number": 11,
       "text": [
        "[[([1, 8, 2, 3, 0, 5, 6, 4, 7], [1, 8, 2, 3, 0, 5, 6, 4, 7]), 1.0],\n",
        " [([1], [1]), 1.0],\n",
        " [([1], [8, 2, 3, 0, 5, 6, 4, 7]), 0.050000000000000003],\n",
        " [([8, 2, 3, 0, 5, 6, 4, 7], [1]), 0.070000000000000007],\n",
        " [([8, 2, 3, 0, 5, 6, 4, 7], [8, 2, 3, 0, 5, 6, 4, 7]), 1.0],\n",
        " [([8, 2, 3], [8, 2, 3]), 1.0],\n",
        " [([8, 2, 3], [0, 5, 6, 4, 7]), 0.48999999999999999],\n",
        " [([0, 5, 6, 4, 7], [8, 2, 3]), 0.44],\n",
        " [([0, 5, 6, 4, 7], [0, 5, 6, 4, 7]), 1.0],\n",
        " [([8], [8]), 1.0],\n",
        " [([8], [0, 5]), 0.17000000000000001],\n",
        " [([8], [2, 3]), 0.85999999999999999],\n",
        " [([8], [6, 4, 7]), 0.59999999999999998],\n",
        " [([0, 5], [8]), 0.20000000000000001],\n",
        " [([0, 5], [0, 5]), 1.0],\n",
        " [([0, 5], [2, 3]), 0.57999999999999996],\n",
        " [([0, 5], [6, 4, 7]), 0.52000000000000002],\n",
        " [([2, 3], [8]), 0.91000000000000003],\n",
        " [([2, 3], [0, 5]), 0.51000000000000001],\n",
        " [([2, 3], [2, 3]), 1.0],\n",
        " [([2, 3], [6, 4, 7]), 0.62],\n",
        " [([6, 4, 7], [8]), 0.68000000000000005],\n",
        " [([6, 4, 7], [0, 5]), 0.57999999999999996],\n",
        " [([6, 4, 7], [2, 3]), 0.62],\n",
        " [([6, 4, 7], [6, 4, 7]), 1.0],\n",
        " [([0], [0]), 1.0],\n",
        " [([0], [2]), 0.67000000000000004],\n",
        " [([0], [6]), 0.65000000000000002],\n",
        " [([0], [5]), 0.94999999999999996],\n",
        " [([0], [3]), 0.34999999999999998],\n",
        " [([0], [4, 7]), 0.65000000000000002],\n",
        " [([2], [0]), 0.73999999999999999],\n",
        " [([2], [2]), 1.0],\n",
        " [([2], [6]), 0.02],\n",
        " [([2], [5]), 0.38],\n",
        " [([2], [3]), 1.0],\n",
        " [([2], [4, 7]), 0.57999999999999996],\n",
        " [([6], [0]), 0.73999999999999999],\n",
        " [([6], [2]), 0.050000000000000003],\n",
        " [([6], [6]), 1.0],\n",
        " [([6], [5]), 0.55000000000000004],\n",
        " [([6], [3]), 0.68000000000000005],\n",
        " [([6], [4, 7]), 0.40000000000000002],\n",
        " [([5], [0]), 0.94999999999999996],\n",
        " [([5], [2]), 0.46000000000000002],\n",
        " [([5], [6]), 0.66000000000000003],\n",
        " [([5], [5]), 1.0],\n",
        " [([5], [3]), 0.48999999999999999],\n",
        " [([5], [4, 7]), 0.45000000000000001],\n",
        " [([3], [0]), 0.27000000000000002],\n",
        " [([3], [2]), 0.98999999999999999],\n",
        " [([3], [6]), 0.65000000000000002],\n",
        " [([3], [5]), 0.53000000000000003],\n",
        " [([3], [3]), 1.0],\n",
        " [([3], [4, 7]), 0.10000000000000001],\n",
        " [([4, 7], [0]), 0.56000000000000005],\n",
        " [([4, 7], [2]), 0.64000000000000001],\n",
        " [([4, 7], [6]), 0.41999999999999998],\n",
        " [([4, 7], [5]), 0.51000000000000001],\n",
        " [([4, 7], [3]), 0.12],\n",
        " [([4, 7], [4, 7]), 1.0],\n",
        " [([4], [4]), 1.0],\n",
        " [([4], [7]), 0.94999999999999996],\n",
        " [([7], [4]), 0.94999999999999996],\n",
        " [([7], [7]), 1.0]]"
       ]
      },
      {
       "metadata": {},
       "output_type": "display_data",
       "png": "[encoded data removed]",
       "text": [
        "<matplotlib.figure.Figure at 0x614eb10>"
       ]
      }
     ],
     "prompt_number": 11
    },
    {
     "cell_type": "code",
     "collapsed": false,
     "input": [],
     "language": "python",
     "metadata": {},
     "outputs": []
    }
   ],
   "metadata": {}
  }
 ]
}