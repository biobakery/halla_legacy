{
 "metadata": {
  "name": ""
 },
 "nbformat": 3,
 "nbformat_minor": 0,
 "worksheets": [
  {
   "cells": [
    {
     "cell_type": "raw",
     "metadata": {},
     "source": [
      "* HAllA\n",
      "** Implementation design, modularity, overall structure, and first tests in IPython look good\n",
      "** Evaluation\n",
      "*** Four areas to consider: different types of inputs, different parameter settings, different competitors, different output evaluations\n",
      "*** Last is easy - we can focus on simple ROCs for the forseeable future\n",
      "*** Competitors to consider as a baseline:\n",
      "**** Feature-wise parametric tests:\n",
      "***** Pearson = continuous/continuous\n",
      "***** ANOVA = continuous/categorical\n",
      "***** X2/Fishers = categorical/categorical\n",
      "**** Feature-wise nonparametric tests:\n",
      "***** Spearman = continuous/continuous\n",
      "***** K-W = continuous/categorical\n",
      "***** X2/Fishers = categorical/categorical\n",
      "*** Consider different types of inputs (both continuous + categorical):\n",
      "**** Uniform random, no cluster structure, linear spikes\n",
      "**** Normal random, no cluster structure, linear spikes\n",
      "**** Uniform mixture model (clusters), linear spikes\n",
      "**** Normal mixture model (clusters), linear spikes\n",
      "**** Normal random, no cluster structure, sine spike\n",
      "\n",
      "* Todos\n",
      "** George: update command line script into a standalone wrapper that's \"easy\" for users to access\n",
      "** Joseph: set up Strudel to run the tests outlined above\n",
      "*** Provide one or more examples of how to run these manually so George can build package\n",
      "** George: create a SflE/test repository modeled after others\n",
      "*** BreadCrumbsTest, shortbred-sfle, maaslin_validation, microPITATest, etc.\n",
      "*** Should use HAllA and strudel as subrepositories\n",
      "*** Run a bunch of specific tests using strudel to make data, feed to HAllA, and vis. results\n",
      "** At next meeting, aim to:\n",
      "*** Look at first ROC plots comparing HAllA to baseline on at least 1-2 of the datasets above\n",
      "*** At least parametric tests on at least 1-2 datasets, go from there"
     ]
    },
    {
     "cell_type": "code",
     "collapsed": false,
     "input": [],
     "language": "python",
     "metadata": {},
     "outputs": []
    }
   ],
   "metadata": {}
  }
 ]
}