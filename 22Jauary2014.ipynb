{
 "metadata": {
  "name": ""
 },
 "nbformat": 3,
 "nbformat_minor": 0,
 "worksheets": [
  {
   "cells": [
    {
     "cell_type": "heading",
     "level": 1,
     "metadata": {},
     "source": [
      "22 January 2014 "
     ]
    },
    {
     "cell_type": "code",
     "collapsed": false,
     "input": [
      "import halla"
     ],
     "language": "python",
     "metadata": {},
     "outputs": [],
     "prompt_number": 23
    },
    {
     "cell_type": "code",
     "collapsed": false,
     "input": [
      "import strudel"
     ],
     "language": "python",
     "metadata": {},
     "outputs": [],
     "prompt_number": 3
    },
    {
     "cell_type": "code",
     "collapsed": false,
     "input": [
      "import halla.hierarchy, halla.test, halla.stats, halla.distance\n",
      "reload(halla.hierarchy)"
     ],
     "language": "python",
     "metadata": {},
     "outputs": [
      {
       "metadata": {},
       "output_type": "pyout",
       "prompt_number": 55,
       "text": [
        "<module 'halla.hierarchy' from 'halla/hierarchy/__init__.py'>"
       ]
      }
     ],
     "prompt_number": 55
    },
    {
     "cell_type": "code",
     "collapsed": false,
     "input": [
      "z1,z2 = [ halla.hierarchy.randtree( obj = False ) for _ in range(2) ]"
     ],
     "language": "python",
     "metadata": {},
     "outputs": [],
     "prompt_number": 6
    },
    {
     "cell_type": "code",
     "collapsed": false,
     "input": [
      "halla.hierarchy.dendrogram(z1)"
     ],
     "language": "python",
     "metadata": {},
     "outputs": [
      {
       "metadata": {},
       "output_type": "pyout",
       "prompt_number": 8,
       "text": [
        "{'color_list': ['b', 'g', 'g', 'g', 'g', 'g', 'b', 'b', 'b'],\n",
        " 'dcoord': [[0.0, 0.77564437614502946, 0.77564437614502946, 0.0],\n",
        "  [0.0, 0.0, 0.0, 0.0],\n",
        "  [0.0, 0.0, 0.0, 0.0],\n",
        "  [0.0, 0.0, 0.0, 0.0],\n",
        "  [0.0, 0.0, 0.0, 0.0],\n",
        "  [0.0, 0.36905042394738496, 0.36905042394738496, 0.0],\n",
        "  [0.0, 0.7312277389370414, 0.7312277389370414, 0.36905042394738496],\n",
        "  [0.0, 0.77564437614502946, 0.77564437614502946, 0.7312277389370414],\n",
        "  [0.77564437614502946,\n",
        "   0.78166497605830909,\n",
        "   0.78166497605830909,\n",
        "   0.77564437614502946]],\n",
        " 'icoord': [[5.0, 5.0, 15.0, 15.0],\n",
        "  [65.0, 65.0, 75.0, 75.0],\n",
        "  [55.0, 55.0, 70.0, 70.0],\n",
        "  [45.0, 45.0, 62.5, 62.5],\n",
        "  [85.0, 85.0, 95.0, 95.0],\n",
        "  [53.75, 53.75, 90.0, 90.0],\n",
        "  [35.0, 35.0, 71.875, 71.875],\n",
        "  [25.0, 25.0, 53.4375, 53.4375],\n",
        "  [10.0, 10.0, 39.21875, 39.21875]],\n",
        " 'ivl': ['4', '8', '2', '7', '1', '3', '5', '9', '0', '6'],\n",
        " 'leaves': [4, 8, 2, 7, 1, 3, 5, 9, 0, 6]}"
       ]
      },
      {
       "metadata": {},
       "output_type": "display_data",
       "png": "[encoded data removed]",
       "text": [
        "<matplotlib.figure.Figure at 0x5e9ff50>"
       ]
      }
     ],
     "prompt_number": 8
    },
    {
     "cell_type": "code",
     "collapsed": false,
     "input": [
      "halla.hierarchy.dendrogram( z2 ) "
     ],
     "language": "python",
     "metadata": {},
     "outputs": [
      {
       "metadata": {},
       "output_type": "pyout",
       "prompt_number": 9,
       "text": [
        "{'color_list': ['g', 'g', 'g', 'g', 'g', 'b', 'b', 'b', 'b'],\n",
        " 'dcoord': [[0.0, 0.0, 0.0, 0.0],\n",
        "  [0.0, 0.0, 0.0, 0.0],\n",
        "  [0.0, 0.0, 0.0, 0.0],\n",
        "  [0.0, 0.0, 0.0, 0.0],\n",
        "  [0.0, 0.0, 0.0, 0.0],\n",
        "  [0.0, 0.77416865186181116, 0.77416865186181116, 0.0],\n",
        "  [0.0, 0.74296831374325922, 0.74296831374325922, 0.0],\n",
        "  [0.0, 0.77564437614502946, 0.77564437614502946, 0.74296831374325922],\n",
        "  [0.77416865186181116,\n",
        "   0.77939253824327848,\n",
        "   0.77939253824327848,\n",
        "   0.77564437614502946]],\n",
        " 'icoord': [[55.0, 55.0, 65.0, 65.0],\n",
        "  [45.0, 45.0, 60.0, 60.0],\n",
        "  [35.0, 35.0, 52.5, 52.5],\n",
        "  [25.0, 25.0, 43.75, 43.75],\n",
        "  [15.0, 15.0, 34.375, 34.375],\n",
        "  [5.0, 5.0, 24.6875, 24.6875],\n",
        "  [85.0, 85.0, 95.0, 95.0],\n",
        "  [75.0, 75.0, 90.0, 90.0],\n",
        "  [14.84375, 14.84375, 82.5, 82.5]],\n",
        " 'ivl': ['7', '0', '3', '4', '6', '8', '9', '5', '1', '2'],\n",
        " 'leaves': [7, 0, 3, 4, 6, 8, 9, 5, 1, 2]}"
       ]
      },
      {
       "metadata": {},
       "output_type": "display_data",
       "png": "[encoded data removed]",
       "text": [
        "<matplotlib.figure.Figure at 0x5ed31d0>"
       ]
      }
     ],
     "prompt_number": 9
    },
    {
     "cell_type": "code",
     "collapsed": false,
     "input": [
      "t1, t2 =[ halla.hierarchy.to_tree( z ) for z in [z1,z2] ]"
     ],
     "language": "python",
     "metadata": {},
     "outputs": [],
     "prompt_number": 38
    },
    {
     "cell_type": "code",
     "collapsed": false,
     "input": [
      "lf1, lf2 = [ halla.hierarchy.reduce_tree_by_layer( t ) for t in [t1,t2] ] "
     ],
     "language": "python",
     "metadata": {},
     "outputs": [],
     "prompt_number": 39
    },
    {
     "cell_type": "code",
     "collapsed": false,
     "input": [
      "lf1"
     ],
     "language": "python",
     "metadata": {},
     "outputs": [
      {
       "metadata": {},
       "output_type": "pyout",
       "prompt_number": 40,
       "text": [
        "[(0, [4, 8, 2, 7, 1, 3, 5, 9, 0, 6]),\n",
        " (1, [4, 8]),\n",
        " (1, [2, 7, 1, 3, 5, 9, 0, 6]),\n",
        " (2, [4]),\n",
        " (2, [8]),\n",
        " (2, [2]),\n",
        " (2, [7, 1, 3, 5, 9, 0, 6]),\n",
        " (3, [7]),\n",
        " (3, [1, 3, 5, 9, 0, 6]),\n",
        " (4, [1, 3, 5, 9]),\n",
        " (4, [0, 6]),\n",
        " (5, [1]),\n",
        " (5, [3, 5, 9]),\n",
        " (5, [0]),\n",
        " (5, [6]),\n",
        " (6, [3]),\n",
        " (6, [5, 9]),\n",
        " (7, [5]),\n",
        " (7, [9])]"
       ]
      }
     ],
     "prompt_number": 40
    },
    {
     "cell_type": "code",
     "collapsed": false,
     "input": [
      "h1 = halla.hierarchy.couple_tree( [t1], [t1] ) "
     ],
     "language": "python",
     "metadata": {},
     "outputs": [],
     "prompt_number": 47
    },
    {
     "cell_type": "code",
     "collapsed": false,
     "input": [
      "h1"
     ],
     "language": "python",
     "metadata": {},
     "outputs": [
      {
       "metadata": {},
       "output_type": "pyout",
       "prompt_number": 48,
       "text": [
        "[<halla.hierarchy.Tree instance at 0x5ec4050>]"
       ]
      }
     ],
     "prompt_number": 48
    },
    {
     "cell_type": "code",
     "collapsed": false,
     "input": [
      "h1[0].get_data() "
     ],
     "language": "python",
     "metadata": {},
     "outputs": [
      {
       "metadata": {},
       "output_type": "pyout",
       "prompt_number": 49,
       "text": [
        "[[4, 8, 2, 7, 1, 3, 5, 9, 0, 6], [4, 8, 2, 7, 1, 3, 5, 9, 0, 6]]"
       ]
      }
     ],
     "prompt_number": 49
    },
    {
     "cell_type": "code",
     "collapsed": false,
     "input": [
      "reload(halla.hierarchy)"
     ],
     "language": "python",
     "metadata": {},
     "outputs": [
      {
       "metadata": {},
       "output_type": "pyout",
       "prompt_number": 84,
       "text": [
        "<module 'halla.hierarchy' from 'halla/hierarchy/__init__.py'>"
       ]
      }
     ],
     "prompt_number": 84
    },
    {
     "cell_type": "code",
     "collapsed": false,
     "input": [
      "halla.hierarchy.reduce_tree( h1[0] )"
     ],
     "language": "python",
     "metadata": {},
     "outputs": [
      {
       "metadata": {},
       "output_type": "pyout",
       "prompt_number": 85,
       "text": [
        "[[[4], [4]],\n",
        " [[4], [8]],\n",
        " [[8], [4]],\n",
        " [[8], [8]],\n",
        " [[4], [2]],\n",
        " [[4], [7, 1, 3, 5, 9, 0, 6]],\n",
        " [[8], [2]],\n",
        " [[8], [7, 1, 3, 5, 9, 0, 6]],\n",
        " [[2], [4]],\n",
        " [[2], [8]],\n",
        " [[7, 1, 3, 5, 9, 0, 6], [4]],\n",
        " [[7, 1, 3, 5, 9, 0, 6], [8]],\n",
        " [[2], [2]],\n",
        " [[2], [7, 1, 3, 5, 9, 0, 6]],\n",
        " [[7, 1, 3, 5, 9, 0, 6], [2]],\n",
        " [[7], [7]],\n",
        " [[7], [1, 3, 5, 9, 0, 6]],\n",
        " [[1, 3, 5, 9, 0, 6], [7]],\n",
        " [[1], [1]],\n",
        " [[1], [3, 5, 9]],\n",
        " [[3, 5, 9], [1]],\n",
        " [[3], [3]],\n",
        " [[3], [5, 9]],\n",
        " [[5, 9], [3]],\n",
        " [[5], [5]],\n",
        " [[5], [9]],\n",
        " [[9], [5]],\n",
        " [[9], [9]],\n",
        " [[1], [0]],\n",
        " [[1], [6]],\n",
        " [[3, 5, 9], [0]],\n",
        " [[3, 5, 9], [6]],\n",
        " [[0], [1]],\n",
        " [[0], [3, 5, 9]],\n",
        " [[6], [1]],\n",
        " [[6], [3, 5, 9]],\n",
        " [[0], [0]],\n",
        " [[0], [6]],\n",
        " [[6], [0]],\n",
        " [[6], [6]]]"
       ]
      }
     ],
     "prompt_number": 85
    },
    {
     "cell_type": "code",
     "collapsed": false,
     "input": [
      "halla.hierarchy.reduce_tree_by_layer( h1[0] )"
     ],
     "language": "python",
     "metadata": {},
     "outputs": [
      {
       "metadata": {},
       "output_type": "pyout",
       "prompt_number": 88,
       "text": [
        "[(0, [[4, 8, 2, 7, 1, 3, 5, 9, 0, 6], [4, 8, 2, 7, 1, 3, 5, 9, 0, 6]]),\n",
        " (1, [[4, 8], [4, 8]]),\n",
        " (1, [[4, 8], [2, 7, 1, 3, 5, 9, 0, 6]]),\n",
        " (1, [[2, 7, 1, 3, 5, 9, 0, 6], [4, 8]]),\n",
        " (1, [[2, 7, 1, 3, 5, 9, 0, 6], [2, 7, 1, 3, 5, 9, 0, 6]]),\n",
        " (2, [[4], [4]]),\n",
        " (2, [[4], [8]]),\n",
        " (2, [[8], [4]]),\n",
        " (2, [[8], [8]]),\n",
        " (2, [[4], [2]]),\n",
        " (2, [[4], [7, 1, 3, 5, 9, 0, 6]]),\n",
        " (2, [[8], [2]]),\n",
        " (2, [[8], [7, 1, 3, 5, 9, 0, 6]]),\n",
        " (2, [[2], [4]]),\n",
        " (2, [[2], [8]]),\n",
        " (2, [[7, 1, 3, 5, 9, 0, 6], [4]]),\n",
        " (2, [[7, 1, 3, 5, 9, 0, 6], [8]]),\n",
        " (2, [[2], [2]]),\n",
        " (2, [[2], [7, 1, 3, 5, 9, 0, 6]]),\n",
        " (2, [[7, 1, 3, 5, 9, 0, 6], [2]]),\n",
        " (2, [[7, 1, 3, 5, 9, 0, 6], [7, 1, 3, 5, 9, 0, 6]]),\n",
        " (3, [[7], [7]]),\n",
        " (3, [[7], [1, 3, 5, 9, 0, 6]]),\n",
        " (3, [[1, 3, 5, 9, 0, 6], [7]]),\n",
        " (3, [[1, 3, 5, 9, 0, 6], [1, 3, 5, 9, 0, 6]]),\n",
        " (4, [[1, 3, 5, 9], [1, 3, 5, 9]]),\n",
        " (4, [[1, 3, 5, 9], [0, 6]]),\n",
        " (4, [[0, 6], [1, 3, 5, 9]]),\n",
        " (4, [[0, 6], [0, 6]]),\n",
        " (5, [[1], [1]]),\n",
        " (5, [[1], [3, 5, 9]]),\n",
        " (5, [[3, 5, 9], [1]]),\n",
        " (5, [[3, 5, 9], [3, 5, 9]]),\n",
        " (5, [[1], [0]]),\n",
        " (5, [[1], [6]]),\n",
        " (5, [[3, 5, 9], [0]]),\n",
        " (5, [[3, 5, 9], [6]]),\n",
        " (5, [[0], [1]]),\n",
        " (5, [[0], [3, 5, 9]]),\n",
        " (5, [[6], [1]]),\n",
        " (5, [[6], [3, 5, 9]]),\n",
        " (5, [[0], [0]]),\n",
        " (5, [[0], [6]]),\n",
        " (5, [[6], [0]]),\n",
        " (5, [[6], [6]]),\n",
        " (6, [[3], [3]]),\n",
        " (6, [[3], [5, 9]]),\n",
        " (6, [[5, 9], [3]]),\n",
        " (6, [[5, 9], [5, 9]]),\n",
        " (7, [[5], [5]]),\n",
        " (7, [[5], [9]]),\n",
        " (7, [[9], [5]]),\n",
        " (7, [[9], [9]])]"
       ]
      }
     ],
     "prompt_number": 88
    },
    {
     "cell_type": "code",
     "collapsed": false,
     "input": [
      "lf1"
     ],
     "language": "python",
     "metadata": {},
     "outputs": [
      {
       "metadata": {},
       "output_type": "pyout",
       "prompt_number": 89,
       "text": [
        "[(0, [4, 8, 2, 7, 1, 3, 5, 9, 0, 6]),\n",
        " (1, [4, 8]),\n",
        " (1, [2, 7, 1, 3, 5, 9, 0, 6]),\n",
        " (2, [4]),\n",
        " (2, [8]),\n",
        " (2, [2]),\n",
        " (2, [7, 1, 3, 5, 9, 0, 6]),\n",
        " (3, [7]),\n",
        " (3, [1, 3, 5, 9, 0, 6]),\n",
        " (4, [1, 3, 5, 9]),\n",
        " (4, [0, 6]),\n",
        " (5, [1]),\n",
        " (5, [3, 5, 9]),\n",
        " (5, [0]),\n",
        " (5, [6]),\n",
        " (6, [3]),\n",
        " (6, [5, 9]),\n",
        " (7, [5]),\n",
        " (7, [9])]"
       ]
      }
     ],
     "prompt_number": 89
    },
    {
     "cell_type": "code",
     "collapsed": false,
     "input": [],
     "language": "python",
     "metadata": {},
     "outputs": []
    }
   ],
   "metadata": {}
  }
 ]
}