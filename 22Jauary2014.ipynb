{
 "metadata": {
  "name": ""
 },
 "nbformat": 3,
 "nbformat_minor": 0,
 "worksheets": [
  {
   "cells": [
    {
     "cell_type": "heading",
     "level": 1,
     "metadata": {},
     "source": [
      "22 January 2014 "
     ]
    },
    {
     "cell_type": "raw",
     "metadata": {},
     "source": [
      "* HAllA validation\n",
      "** AUC=~0.8 is more reasonable, see what's generating this problem in validation\n",
      "** Start with next time\n",
      "*** Using PCA to generate representatives for each cluster\n",
      "** Evaluate both + and - versions of hypothesis testing (ruling in vs. ruling out)\n",
      "*** Yekutieli works for +, but not -\n",
      "*** To evaluate -, start with plain old FDR over all hypothesis tests"
     ]
    },
    {
     "cell_type": "code",
     "collapsed": false,
     "input": [
      "import halla"
     ],
     "language": "python",
     "metadata": {},
     "outputs": [],
     "prompt_number": 3
    },
    {
     "cell_type": "code",
     "collapsed": false,
     "input": [
      "import strudel"
     ],
     "language": "python",
     "metadata": {},
     "outputs": [],
     "prompt_number": 4
    },
    {
     "cell_type": "code",
     "collapsed": false,
     "input": [
      "import halla.hierarchy, halla.test, halla.stats, halla.distance\n",
      "reload(halla.hierarchy)"
     ],
     "language": "python",
     "metadata": {},
     "outputs": [
      {
       "metadata": {},
       "output_type": "pyout",
       "prompt_number": 5,
       "text": [
        "<module 'halla.hierarchy' from 'halla/hierarchy/__init__.pyc'>"
       ]
      }
     ],
     "prompt_number": 5
    },
    {
     "cell_type": "code",
     "collapsed": false,
     "input": [
      "z1,z2 = [ halla.hierarchy.randtree( obj = False ) for _ in range(2) ]"
     ],
     "language": "python",
     "metadata": {},
     "outputs": [
      {
       "output_type": "stream",
       "stream": "stdout",
       "text": [
        "[1, 1, 0, 1, 0, 1, 0, 0, 1, 1]\n",
        "[1, 1, 1, 1, 0, 0, 1, 0, 0, 1]\n"
       ]
      }
     ],
     "prompt_number": 6
    },
    {
     "cell_type": "code",
     "collapsed": false,
     "input": [
      "halla.hierarchy.dendrogram(z1)"
     ],
     "language": "python",
     "metadata": {},
     "outputs": [
      {
       "metadata": {},
       "output_type": "pyout",
       "prompt_number": 7,
       "text": [
        "{'color_list': ['g', 'g', 'g', 'g', 'g', 'b', 'b', 'b', 'b'],\n",
        " 'dcoord': [[0.0, 0.0, 0.0, 0.0],\n",
        "  [0.0, 0.0, 0.0, 0.0],\n",
        "  [0.0, 0.0, 0.0, 0.0],\n",
        "  [0.0, 0.35516337425721523, 0.35516337425721523, 0.0],\n",
        "  [0.0, 0.37926657531220009, 0.37926657531220009, 0.35516337425721523],\n",
        "  [0.0, 0.7226340761883896, 0.7226340761883896, 0.37926657531220009],\n",
        "  [0.0, 0.72293470120873127, 0.72293470120873127, 0.7226340761883896],\n",
        "  [0.0, 0.73724833885032104, 0.73724833885032104, 0.72293470120873127],\n",
        "  [0.0, 0.74928953867688031, 0.74928953867688031, 0.73724833885032104]],\n",
        " 'icoord': [[45.0, 45.0, 55.0, 55.0],\n",
        "  [65.0, 65.0, 75.0, 75.0],\n",
        "  [85.0, 85.0, 95.0, 95.0],\n",
        "  [70.0, 70.0, 90.0, 90.0],\n",
        "  [50.0, 50.0, 80.0, 80.0],\n",
        "  [35.0, 35.0, 65.0, 65.0],\n",
        "  [25.0, 25.0, 50.0, 50.0],\n",
        "  [15.0, 15.0, 37.5, 37.5],\n",
        "  [5.0, 5.0, 26.25, 26.25]],\n",
        " 'ivl': ['4', '2', '6', '7', '8', '9', '3', '5', '0', '1'],\n",
        " 'leaves': [4, 2, 6, 7, 8, 9, 3, 5, 0, 1]}"
       ]
      },
      {
       "metadata": {},
       "output_type": "display_data",
       "png": "[encoded data removed]",
       "text": [
        "<matplotlib.figure.Figure at 0x10accb310>"
       ]
      }
     ],
     "prompt_number": 7
    },
    {
     "cell_type": "code",
     "collapsed": false,
     "input": [
      "halla.hierarchy.dendrogram( z2 ) "
     ],
     "language": "python",
     "metadata": {},
     "outputs": [
      {
       "metadata": {},
       "output_type": "pyout",
       "prompt_number": 8,
       "text": [
        "{'color_list': ['g', 'g', 'g', 'g', 'g', 'b', 'b', 'b', 'b'],\n",
        " 'dcoord': [[0.0, 0.0, 0.0, 0.0],\n",
        "  [0.0, 0.0, 0.0, 0.0],\n",
        "  [0.0, 0.0, 0.0, 0.0],\n",
        "  [0.0, 0.33399676220137164, 0.33399676220137164, 0.0],\n",
        "  [0.0, 0.3863067530669102, 0.3863067530669102, 0.33399676220137164],\n",
        "  [0.0, 0.75610685212197226, 0.75610685212197226, 0.3863067530669102],\n",
        "  [0.0, 0.76962377623174982, 0.76962377623174982, 0.75610685212197226],\n",
        "  [0.0, 0.77484766261321725, 0.77484766261321725, 0.76962377623174982],\n",
        "  [0.0, 0.78166497605830909, 0.78166497605830909, 0.77484766261321725]],\n",
        " 'icoord': [[85.0, 85.0, 95.0, 95.0],\n",
        "  [75.0, 75.0, 90.0, 90.0],\n",
        "  [65.0, 65.0, 82.5, 82.5],\n",
        "  [55.0, 55.0, 73.75, 73.75],\n",
        "  [45.0, 45.0, 64.375, 64.375],\n",
        "  [35.0, 35.0, 54.6875, 54.6875],\n",
        "  [25.0, 25.0, 44.84375, 44.84375],\n",
        "  [15.0, 15.0, 34.921875, 34.921875],\n",
        "  [5.0, 5.0, 24.9609375, 24.9609375]],\n",
        " 'ivl': ['7', '5', '4', '8', '3', '2', '0', '1', '6', '9'],\n",
        " 'leaves': [7, 5, 4, 8, 3, 2, 0, 1, 6, 9]}"
       ]
      },
      {
       "metadata": {},
       "output_type": "display_data",
       "png": "[encoded data removed]",
       "text": [
        "<matplotlib.figure.Figure at 0x10e59a3d0>"
       ]
      }
     ],
     "prompt_number": 8
    },
    {
     "cell_type": "code",
     "collapsed": false,
     "input": [
      "t1, t2 =[ halla.hierarchy.to_tree( z ) for z in [z1,z2] ]"
     ],
     "language": "python",
     "metadata": {},
     "outputs": [],
     "prompt_number": 9
    },
    {
     "cell_type": "code",
     "collapsed": false,
     "input": [
      "lf1, lf2 = [ halla.hierarchy.reduce_tree_by_layer( t ) for t in [t1,t2] ] "
     ],
     "language": "python",
     "metadata": {},
     "outputs": [],
     "prompt_number": 10
    },
    {
     "cell_type": "code",
     "collapsed": false,
     "input": [
      "lf1"
     ],
     "language": "python",
     "metadata": {},
     "outputs": [
      {
       "metadata": {},
       "output_type": "pyout",
       "prompt_number": 11,
       "text": [
        "[(0, [4, 2, 6, 7, 8, 9, 3, 5, 0, 1]),\n",
        " (1, [4]),\n",
        " (1, [2, 6, 7, 8, 9, 3, 5, 0, 1]),\n",
        " (2, [2]),\n",
        " (2, [6, 7, 8, 9, 3, 5, 0, 1]),\n",
        " (3, [6]),\n",
        " (3, [7, 8, 9, 3, 5, 0, 1]),\n",
        " (4, [7]),\n",
        " (4, [8, 9, 3, 5, 0, 1]),\n",
        " (5, [8, 9]),\n",
        " (5, [3, 5, 0, 1]),\n",
        " (6, [8]),\n",
        " (6, [9]),\n",
        " (6, [3, 5]),\n",
        " (6, [0, 1]),\n",
        " (7, [3]),\n",
        " (7, [5]),\n",
        " (7, [0]),\n",
        " (7, [1])]"
       ]
      }
     ],
     "prompt_number": 11
    },
    {
     "cell_type": "code",
     "collapsed": false,
     "input": [
      "h1 = halla.hierarchy.couple_tree( [t1], [t1] ) "
     ],
     "language": "python",
     "metadata": {},
     "outputs": [],
     "prompt_number": 12
    },
    {
     "cell_type": "code",
     "collapsed": false,
     "input": [
      "h1"
     ],
     "language": "python",
     "metadata": {},
     "outputs": [
      {
       "metadata": {},
       "output_type": "pyout",
       "prompt_number": 13,
       "text": [
        "[<halla.hierarchy.Tree instance at 0x10e615098>]"
       ]
      }
     ],
     "prompt_number": 13
    },
    {
     "cell_type": "code",
     "collapsed": false,
     "input": [
      "h1[0].get_data() "
     ],
     "language": "python",
     "metadata": {},
     "outputs": [
      {
       "metadata": {},
       "output_type": "pyout",
       "prompt_number": 14,
       "text": [
        "[[4, 2, 6, 7, 8, 9, 3, 5, 0, 1], [4, 2, 6, 7, 8, 9, 3, 5, 0, 1]]"
       ]
      }
     ],
     "prompt_number": 14
    },
    {
     "cell_type": "code",
     "collapsed": false,
     "input": [
      "reload(halla.hierarchy)"
     ],
     "language": "python",
     "metadata": {},
     "outputs": [
      {
       "metadata": {},
       "output_type": "pyout",
       "prompt_number": 15,
       "text": [
        "<module 'halla.hierarchy' from 'halla/hierarchy/__init__.pyc'>"
       ]
      }
     ],
     "prompt_number": 15
    },
    {
     "cell_type": "code",
     "collapsed": false,
     "input": [
      "halla.hierarchy.reduce_tree( h1[0] )"
     ],
     "language": "python",
     "metadata": {},
     "outputs": [
      {
       "metadata": {},
       "output_type": "pyout",
       "prompt_number": 16,
       "text": [
        "[[[4], [4]],\n",
        " [[4], [2, 6, 7, 8, 9, 3, 5, 0, 1]],\n",
        " [[2, 6, 7, 8, 9, 3, 5, 0, 1], [4]],\n",
        " [[2], [2]],\n",
        " [[2], [6, 7, 8, 9, 3, 5, 0, 1]],\n",
        " [[6, 7, 8, 9, 3, 5, 0, 1], [2]],\n",
        " [[6], [6]],\n",
        " [[6], [7, 8, 9, 3, 5, 0, 1]],\n",
        " [[7, 8, 9, 3, 5, 0, 1], [6]],\n",
        " [[7], [7]],\n",
        " [[7], [8, 9, 3, 5, 0, 1]],\n",
        " [[8, 9, 3, 5, 0, 1], [7]],\n",
        " [[8], [8]],\n",
        " [[8], [9]],\n",
        " [[9], [8]],\n",
        " [[9], [9]],\n",
        " [[8], [3, 5]],\n",
        " [[8], [0, 1]],\n",
        " [[9], [3, 5]],\n",
        " [[9], [0, 1]],\n",
        " [[3, 5], [8]],\n",
        " [[3, 5], [9]],\n",
        " [[0, 1], [8]],\n",
        " [[0, 1], [9]],\n",
        " [[3], [3]],\n",
        " [[3], [5]],\n",
        " [[5], [3]],\n",
        " [[5], [5]],\n",
        " [[3], [0]],\n",
        " [[3], [1]],\n",
        " [[5], [0]],\n",
        " [[5], [1]],\n",
        " [[0], [3]],\n",
        " [[0], [5]],\n",
        " [[1], [3]],\n",
        " [[1], [5]],\n",
        " [[0], [0]],\n",
        " [[0], [1]],\n",
        " [[1], [0]],\n",
        " [[1], [1]]]"
       ]
      }
     ],
     "prompt_number": 16
    },
    {
     "cell_type": "code",
     "collapsed": false,
     "input": [
      "halla.hierarchy.reduce_tree_by_layer( h1[0] )"
     ],
     "language": "python",
     "metadata": {},
     "outputs": [
      {
       "metadata": {},
       "output_type": "pyout",
       "prompt_number": 17,
       "text": [
        "[(0, [[4, 2, 6, 7, 8, 9, 3, 5, 0, 1], [4, 2, 6, 7, 8, 9, 3, 5, 0, 1]]),\n",
        " (1, [[4], [4]]),\n",
        " (1, [[4], [2, 6, 7, 8, 9, 3, 5, 0, 1]]),\n",
        " (1, [[2, 6, 7, 8, 9, 3, 5, 0, 1], [4]]),\n",
        " (1, [[2, 6, 7, 8, 9, 3, 5, 0, 1], [2, 6, 7, 8, 9, 3, 5, 0, 1]]),\n",
        " (2, [[2], [2]]),\n",
        " (2, [[2], [6, 7, 8, 9, 3, 5, 0, 1]]),\n",
        " (2, [[6, 7, 8, 9, 3, 5, 0, 1], [2]]),\n",
        " (2, [[6, 7, 8, 9, 3, 5, 0, 1], [6, 7, 8, 9, 3, 5, 0, 1]]),\n",
        " (3, [[6], [6]]),\n",
        " (3, [[6], [7, 8, 9, 3, 5, 0, 1]]),\n",
        " (3, [[7, 8, 9, 3, 5, 0, 1], [6]]),\n",
        " (3, [[7, 8, 9, 3, 5, 0, 1], [7, 8, 9, 3, 5, 0, 1]]),\n",
        " (4, [[7], [7]]),\n",
        " (4, [[7], [8, 9, 3, 5, 0, 1]]),\n",
        " (4, [[8, 9, 3, 5, 0, 1], [7]]),\n",
        " (4, [[8, 9, 3, 5, 0, 1], [8, 9, 3, 5, 0, 1]]),\n",
        " (5, [[8, 9], [8, 9]]),\n",
        " (5, [[8, 9], [3, 5, 0, 1]]),\n",
        " (5, [[3, 5, 0, 1], [8, 9]]),\n",
        " (5, [[3, 5, 0, 1], [3, 5, 0, 1]]),\n",
        " (6, [[8], [8]]),\n",
        " (6, [[8], [9]]),\n",
        " (6, [[9], [8]]),\n",
        " (6, [[9], [9]]),\n",
        " (6, [[8], [3, 5]]),\n",
        " (6, [[8], [0, 1]]),\n",
        " (6, [[9], [3, 5]]),\n",
        " (6, [[9], [0, 1]]),\n",
        " (6, [[3, 5], [8]]),\n",
        " (6, [[3, 5], [9]]),\n",
        " (6, [[0, 1], [8]]),\n",
        " (6, [[0, 1], [9]]),\n",
        " (6, [[3, 5], [3, 5]]),\n",
        " (6, [[3, 5], [0, 1]]),\n",
        " (6, [[0, 1], [3, 5]]),\n",
        " (6, [[0, 1], [0, 1]]),\n",
        " (7, [[3], [3]]),\n",
        " (7, [[3], [5]]),\n",
        " (7, [[5], [3]]),\n",
        " (7, [[5], [5]]),\n",
        " (7, [[3], [0]]),\n",
        " (7, [[3], [1]]),\n",
        " (7, [[5], [0]]),\n",
        " (7, [[5], [1]]),\n",
        " (7, [[0], [3]]),\n",
        " (7, [[0], [5]]),\n",
        " (7, [[1], [3]]),\n",
        " (7, [[1], [5]]),\n",
        " (7, [[0], [0]]),\n",
        " (7, [[0], [1]]),\n",
        " (7, [[1], [0]]),\n",
        " (7, [[1], [1]])]"
       ]
      }
     ],
     "prompt_number": 17
    },
    {
     "cell_type": "code",
     "collapsed": false,
     "input": [
      "lf1"
     ],
     "language": "python",
     "metadata": {},
     "outputs": [
      {
       "metadata": {},
       "output_type": "pyout",
       "prompt_number": 18,
       "text": [
        "[(0, [4, 2, 6, 7, 8, 9, 3, 5, 0, 1]),\n",
        " (1, [4]),\n",
        " (1, [2, 6, 7, 8, 9, 3, 5, 0, 1]),\n",
        " (2, [2]),\n",
        " (2, [6, 7, 8, 9, 3, 5, 0, 1]),\n",
        " (3, [6]),\n",
        " (3, [7, 8, 9, 3, 5, 0, 1]),\n",
        " (4, [7]),\n",
        " (4, [8, 9, 3, 5, 0, 1]),\n",
        " (5, [8, 9]),\n",
        " (5, [3, 5, 0, 1]),\n",
        " (6, [8]),\n",
        " (6, [9]),\n",
        " (6, [3, 5]),\n",
        " (6, [0, 1]),\n",
        " (7, [3]),\n",
        " (7, [5]),\n",
        " (7, [0]),\n",
        " (7, [1])]"
       ]
      }
     ],
     "prompt_number": 18
    },
    {
     "cell_type": "heading",
     "level": 2,
     "metadata": {},
     "source": [
      "Test Pipeline"
     ]
    },
    {
     "cell_type": "code",
     "collapsed": false,
     "input": [
      "s = strudel.Strudel()\n",
      "X,Y = [ s.randmat( shape = (10,100) ) for _ in range(2) ] "
     ],
     "language": "python",
     "metadata": {},
     "outputs": [],
     "prompt_number": 19
    },
    {
     "cell_type": "code",
     "collapsed": false,
     "input": [
      "dX, dY = halla.discretize( X ), halla.discretize( Y )"
     ],
     "language": "python",
     "metadata": {},
     "outputs": [],
     "prompt_number": 20
    },
    {
     "cell_type": "code",
     "collapsed": false,
     "input": [
      "zX, zY = halla.hclust( dX, bTree = False ), halla.hclust( dY, bTree = False )"
     ],
     "language": "python",
     "metadata": {},
     "outputs": [],
     "prompt_number": 21
    },
    {
     "cell_type": "code",
     "collapsed": false,
     "input": [
      "halla.dendrogram( zX )"
     ],
     "language": "python",
     "metadata": {},
     "outputs": [
      {
       "metadata": {},
       "output_type": "pyout",
       "prompt_number": 22,
       "text": [
        "{'color_list': ['b', 'b', 'b', 'b', 'b', 'b', 'b', 'b', 'b'],\n",
        " 'dcoord': [[0.0, 0.75303770077512933, 0.75303770077512933, 0.0],\n",
        "  [0.0, 0.75531013859015994, 0.75531013859015994, 0.75303770077512933],\n",
        "  [0.0, 0.72638223828663862, 0.72638223828663862, 0.0],\n",
        "  [0.0, 0.75531013859015994, 0.75531013859015994, 0.0],\n",
        "  [0.0, 0.75531013859015994, 0.75531013859015994, 0.75531013859015994],\n",
        "  [0.72638223828663862,\n",
        "   0.75678586287337835,\n",
        "   0.75678586287337835,\n",
        "   0.75531013859015994],\n",
        "  [0.75531013859015994,\n",
        "   0.76280646278665798,\n",
        "   0.76280646278665798,\n",
        "   0.75678586287337835],\n",
        "  [0.0, 0.76814805194853153, 0.76814805194853153, 0.76280646278665798],\n",
        "  [0.0, 0.77644108967684178, 0.77644108967684178, 0.76814805194853153]],\n",
        " 'icoord': [[35.0, 35.0, 45.0, 45.0],\n",
        "  [25.0, 25.0, 40.0, 40.0],\n",
        "  [55.0, 55.0, 65.0, 65.0],\n",
        "  [85.0, 85.0, 95.0, 95.0],\n",
        "  [75.0, 75.0, 90.0, 90.0],\n",
        "  [60.0, 60.0, 82.5, 82.5],\n",
        "  [32.5, 32.5, 71.25, 71.25],\n",
        "  [15.0, 15.0, 51.875, 51.875],\n",
        "  [5.0, 5.0, 33.4375, 33.4375]],\n",
        " 'ivl': ['7', '6', '9', '5', '8', '1', '2', '0', '3', '4'],\n",
        " 'leaves': [7, 6, 9, 5, 8, 1, 2, 0, 3, 4]}"
       ]
      },
      {
       "metadata": {},
       "output_type": "display_data",
       "png": "[encoded data removed]",
       "text": [
        "<matplotlib.figure.Figure at 0x10e5563d0>"
       ]
      }
     ],
     "prompt_number": 22
    },
    {
     "cell_type": "code",
     "collapsed": false,
     "input": [
      "halla.dendrogram( zY ) "
     ],
     "language": "python",
     "metadata": {},
     "outputs": [
      {
       "metadata": {},
       "output_type": "pyout",
       "prompt_number": 23,
       "text": [
        "{'color_list': ['b', 'b', 'b', 'b', 'b', 'b', 'b', 'b', 'b'],\n",
        " 'dcoord': [[0.0, 0.7356549117866964, 0.7356549117866964, 0.0],\n",
        "  [0.0, 0.74671647584150813, 0.74671647584150813, 0.7356549117866964],\n",
        "  [0.0, 0.71316593919720261, 0.71316593919720261, 0.0],\n",
        "  [0.0, 0.7421716002114469, 0.7421716002114469, 0.71316593919720261],\n",
        "  [0.0, 0.74701710086184969, 0.74701710086184969, 0.7421716002114469],\n",
        "  [0.74671647584150813,\n",
        "   0.75235869002372324,\n",
        "   0.75235869002372324,\n",
        "   0.74701710086184969],\n",
        "  [0.0, 0.75383441430694165, 0.75383441430694165, 0.75235869002372324],\n",
        "  [0.0, 0.77189621404678055, 0.77189621404678055, 0.75383441430694165],\n",
        "  [0.0, 0.77939253824327848, 0.77939253824327848, 0.77189621404678055]],\n",
        " 'icoord': [[45.0, 45.0, 55.0, 55.0],\n",
        "  [35.0, 35.0, 50.0, 50.0],\n",
        "  [85.0, 85.0, 95.0, 95.0],\n",
        "  [75.0, 75.0, 90.0, 90.0],\n",
        "  [65.0, 65.0, 82.5, 82.5],\n",
        "  [42.5, 42.5, 73.75, 73.75],\n",
        "  [25.0, 25.0, 58.125, 58.125],\n",
        "  [15.0, 15.0, 41.5625, 41.5625],\n",
        "  [5.0, 5.0, 28.28125, 28.28125]],\n",
        " 'ivl': ['5', '1', '6', '8', '0', '3', '9', '2', '4', '7'],\n",
        " 'leaves': [5, 1, 6, 8, 0, 3, 9, 2, 4, 7]}"
       ]
      },
      {
       "metadata": {},
       "output_type": "display_data",
       "png": "[encoded data removed]",
       "text": [
        "<matplotlib.figure.Figure at 0x10e558ed0>"
       ]
      }
     ],
     "prompt_number": 23
    },
    {
     "cell_type": "code",
     "collapsed": false,
     "input": [
      "tX, tY = halla.hclust( dX, bTree = True ), halla.hclust( dY, bTree = True ) "
     ],
     "language": "python",
     "metadata": {},
     "outputs": [],
     "prompt_number": 24
    },
    {
     "cell_type": "code",
     "collapsed": false,
     "input": [
      "tH = halla.hierarchy.couple_tree( [tX], [tY] ) ## gives back list "
     ],
     "language": "python",
     "metadata": {},
     "outputs": [],
     "prompt_number": 25
    },
    {
     "cell_type": "code",
     "collapsed": false,
     "input": [
      "tH[0].get_children()"
     ],
     "language": "python",
     "metadata": {},
     "outputs": [
      {
       "metadata": {},
       "output_type": "pyout",
       "prompt_number": 35,
       "text": [
        "[<halla.hierarchy.Tree instance at 0x10e6188c0>,\n",
        " <halla.hierarchy.Tree instance at 0x10e618a70>,\n",
        " <halla.hierarchy.Tree instance at 0x10e618b48>,\n",
        " <halla.hierarchy.Tree instance at 0x10e618c20>]"
       ]
      }
     ],
     "prompt_number": 35
    },
    {
     "cell_type": "code",
     "collapsed": false,
     "input": [
      "tH[0].get_data()"
     ],
     "language": "python",
     "metadata": {},
     "outputs": [
      {
       "metadata": {},
       "output_type": "pyout",
       "prompt_number": 36,
       "text": [
        "[[7, 6, 9, 5, 8, 1, 2, 0, 3, 4], [5, 1, 6, 8, 0, 3, 9, 2, 4, 7]]"
       ]
      }
     ],
     "prompt_number": 36
    },
    {
     "cell_type": "code",
     "collapsed": false,
     "input": [
      "lfH = halla.hierarchy.reduce_tree_by_layer( tH )"
     ],
     "language": "python",
     "metadata": {},
     "outputs": [],
     "prompt_number": 26
    },
    {
     "cell_type": "code",
     "collapsed": false,
     "input": [
      "lfH"
     ],
     "language": "python",
     "metadata": {},
     "outputs": [
      {
       "metadata": {},
       "output_type": "pyout",
       "prompt_number": 27,
       "text": [
        "[(0, [[7, 6, 9, 5, 8, 1, 2, 0, 3, 4], [5, 1, 6, 8, 0, 3, 9, 2, 4, 7]]),\n",
        " (1, [[7], [5]]),\n",
        " (1, [[7], [1, 6, 8, 0, 3, 9, 2, 4, 7]]),\n",
        " (1, [[6, 9, 5, 8, 1, 2, 0, 3, 4], [5]]),\n",
        " (1, [[6, 9, 5, 8, 1, 2, 0, 3, 4], [1, 6, 8, 0, 3, 9, 2, 4, 7]]),\n",
        " (2, [[6], [1]]),\n",
        " (2, [[6], [6, 8, 0, 3, 9, 2, 4, 7]]),\n",
        " (2, [[9, 5, 8, 1, 2, 0, 3, 4], [1]]),\n",
        " (2, [[9, 5, 8, 1, 2, 0, 3, 4], [6, 8, 0, 3, 9, 2, 4, 7]]),\n",
        " (3, [[9, 5, 8], [6]]),\n",
        " (3, [[9, 5, 8], [8, 0, 3, 9, 2, 4, 7]]),\n",
        " (3, [[1, 2, 0, 3, 4], [6]]),\n",
        " (3, [[1, 2, 0, 3, 4], [8, 0, 3, 9, 2, 4, 7]]),\n",
        " (4, [[9], [8, 0, 3]]),\n",
        " (4, [[9], [9, 2, 4, 7]]),\n",
        " (4, [[5, 8], [8, 0, 3]]),\n",
        " (4, [[5, 8], [9, 2, 4, 7]]),\n",
        " (4, [[1, 2], [8, 0, 3]]),\n",
        " (4, [[1, 2], [9, 2, 4, 7]]),\n",
        " (4, [[0, 3, 4], [8, 0, 3]]),\n",
        " (4, [[0, 3, 4], [9, 2, 4, 7]]),\n",
        " (5, [[5], [8]]),\n",
        " (5, [[5], [0, 3]]),\n",
        " (5, [[8], [8]]),\n",
        " (5, [[8], [0, 3]]),\n",
        " (5, [[5], [9]]),\n",
        " (5, [[5], [2, 4, 7]]),\n",
        " (5, [[8], [9]]),\n",
        " (5, [[8], [2, 4, 7]]),\n",
        " (5, [[1], [8]]),\n",
        " (5, [[1], [0, 3]]),\n",
        " (5, [[2], [8]]),\n",
        " (5, [[2], [0, 3]]),\n",
        " (5, [[1], [9]]),\n",
        " (5, [[1], [2, 4, 7]]),\n",
        " (5, [[2], [9]]),\n",
        " (5, [[2], [2, 4, 7]]),\n",
        " (5, [[0], [8]]),\n",
        " (5, [[0], [0, 3]]),\n",
        " (5, [[3, 4], [8]]),\n",
        " (5, [[3, 4], [0, 3]]),\n",
        " (5, [[0], [9]]),\n",
        " (5, [[0], [2, 4, 7]]),\n",
        " (5, [[3, 4], [9]]),\n",
        " (5, [[3, 4], [2, 4, 7]]),\n",
        " (6, [[3], [0]]),\n",
        " (6, [[3], [3]]),\n",
        " (6, [[4], [0]]),\n",
        " (6, [[4], [3]]),\n",
        " (6, [[3], [2]]),\n",
        " (6, [[3], [4, 7]]),\n",
        " (6, [[4], [2]]),\n",
        " (6, [[4], [4, 7]])]"
       ]
      }
     ],
     "prompt_number": 27
    },
    {
     "cell_type": "code",
     "collapsed": false,
     "input": [
      "[t[1] for t in lfH][1]"
     ],
     "language": "python",
     "metadata": {},
     "outputs": [
      {
       "metadata": {},
       "output_type": "pyout",
       "prompt_number": 28,
       "text": [
        "[[7], [5]]"
       ]
      }
     ],
     "prompt_number": 28
    },
    {
     "cell_type": "code",
     "collapsed": false,
     "input": [
      "reload(halla);reload(halla.hierarchy)\n",
      "aOut = halla.hierarchy.all_against_all( tH, X, Y )"
     ],
     "language": "python",
     "metadata": {},
     "outputs": [],
     "prompt_number": 29
    },
    {
     "cell_type": "code",
     "collapsed": false,
     "input": [
      "for item in aOut:\n",
      "    print item"
     ],
     "language": "python",
     "metadata": {},
     "outputs": [
      {
       "output_type": "stream",
       "stream": "stdout",
       "text": [
        "[[[7, 6, 9, 5, 8, 1, 2, 0, 3, 4], [5, 1, 6, 8, 0, 3, 9, 2, 4, 7]], 0.62]\n",
        "[[[7], [5]], 0.71999999999999997]\n",
        "[[[7], [1, 6, 8, 0, 3, 9, 2, 4, 7]], 0.46999999999999997]\n",
        "[[[6, 9, 5, 8, 1, 2, 0, 3, 4], [5]], 0.080000000000000002]\n",
        "[[[6, 9, 5, 8, 1, 2, 0, 3, 4], [1, 6, 8, 0, 3, 9, 2, 4, 7]], 0.059999999999999998]\n",
        "[[[6], [1]], 0.31]\n",
        "[[[6], [6, 8, 0, 3, 9, 2, 4, 7]], 0.57999999999999996]\n",
        "[[[9, 5, 8, 1, 2, 0, 3, 4], [1]], 0.27500000000000002]\n",
        "[[[9, 5, 8, 1, 2, 0, 3, 4], [6, 8, 0, 3, 9, 2, 4, 7]], 0.080000000000000002]\n",
        "[[[9, 5, 8], [6]], 0.63500000000000001]\n",
        "[[[9, 5, 8], [8, 0, 3, 9, 2, 4, 7]], 0.27000000000000002]\n",
        "[[[1, 2, 0, 3, 4], [6]], 0.61499999999999999]\n",
        "[[[1, 2, 0, 3, 4], [8, 0, 3, 9, 2, 4, 7]], 0.34999999999999998]\n",
        "[[[9], [8, 0, 3]], 0.0]\n",
        "[[[9], [9, 2, 4, 7]], 0.0]\n",
        "[[[5, 8], [8, 0, 3]], 0.56000000000000005]\n",
        "[[[5, 8], [9, 2, 4, 7]], 0.58999999999999997]\n",
        "[[[1, 2], [8, 0, 3]], 0.97999999999999998]\n",
        "[[[1, 2], [9, 2, 4, 7]], 0.17000000000000001]\n",
        "[[[0, 3, 4], [8, 0, 3]], 0.79000000000000004]\n",
        "[[[0, 3, 4], [9, 2, 4, 7]], 0.23999999999999999]\n",
        "[[[5], [8]], 0.77000000000000002]\n",
        "[[[5], [0, 3]], 0.32000000000000001]\n",
        "[[[8], [8]], 0.83999999999999997]\n",
        "[[[8], [0, 3]], 0.42999999999999999]\n",
        "[[[5], [9]], 0.070000000000000007]\n",
        "[[[5], [2, 4, 7]], 0.185]\n",
        "[[[8], [9]], 0.63]\n",
        "[[[8], [2, 4, 7]], 0.22]\n",
        "[[[1], [8]], 0.41999999999999998]\n",
        "[[[1], [0, 3]], 0.22]\n",
        "[[[2], [8]], 0.95999999999999996]\n",
        "[[[2], [0, 3]], 0.755]\n",
        "[[[1], [9]], 0.040000000000000001]\n",
        "[[[1], [2, 4, 7]], 0.81999999999999995]\n",
        "[[[2], [9]], 0.34000000000000002]\n",
        "[[[2], [2, 4, 7]], 0.29999999999999999]\n",
        "[[[0], [8]], 0.39000000000000001]\n",
        "[[[0], [0, 3]], 0.40000000000000002]\n",
        "[[[3, 4], [8]], 0.52000000000000002]\n",
        "[[[3, 4], [0, 3]], 0.28000000000000003]\n",
        "[[[0], [9]], 0.97999999999999998]\n",
        "[[[0], [2, 4, 7]], 0.78000000000000003]\n",
        "[[[3, 4], [9]], 0.46999999999999997]\n",
        "[[[3, 4], [2, 4, 7]], 0.71499999999999997]\n",
        "[[[3], [0]], 0.050000000000000003]\n",
        "[[[3], [3]], 0.54000000000000004]\n",
        "[[[4], [0]], 0.35999999999999999]\n",
        "[[[4], [3]], 0.69999999999999996]\n",
        "[[[3], [2]], 0.089999999999999997]\n",
        "[[[3], [4, 7]], 0.42999999999999999]\n",
        "[[[4], [2]], 0.76000000000000001]\n",
        "[[[4], [4, 7]], 0.59499999999999997]\n"
       ]
      }
     ],
     "prompt_number": 30
    },
    {
     "cell_type": "code",
     "collapsed": false,
     "input": [
      "import pylab as pl\n",
      "aOutNew = sort( [a[1] for a in aOut] )\n",
      "pl.hist( aOutNew )"
     ],
     "language": "python",
     "metadata": {},
     "outputs": [
      {
       "metadata": {},
       "output_type": "pyout",
       "prompt_number": 31,
       "text": [
        "(array([ 9.,  2.,  6.,  7.,  6.,  4.,  6.,  7.,  3.,  3.]),\n",
        " array([ 0.   ,  0.098,  0.196,  0.294,  0.392,  0.49 ,  0.588,  0.686,\n",
        "        0.784,  0.882,  0.98 ]),\n",
        " <a list of 10 Patch objects>)"
       ]
      },
      {
       "metadata": {},
       "output_type": "display_data",
       "png": "[encoded data removed]",
       "text": [
        "<matplotlib.figure.Figure at 0x10e60b650>"
       ]
      }
     ],
     "prompt_number": 31
    },
    {
     "cell_type": "code",
     "collapsed": false,
     "input": [
      "pl.plot( aOutNew )"
     ],
     "language": "python",
     "metadata": {},
     "outputs": [
      {
       "metadata": {},
       "output_type": "pyout",
       "prompt_number": 32,
       "text": [
        "[<matplotlib.lines.Line2D at 0x10e589e90>]"
       ]
      },
      {
       "metadata": {},
       "output_type": "display_data",
       "png": "[encoded data removed]",
       "text": [
        "<matplotlib.figure.Figure at 0x10e58f1d0>"
       ]
      }
     ],
     "prompt_number": 32
    },
    {
     "cell_type": "code",
     "collapsed": false,
     "input": [],
     "language": "python",
     "metadata": {},
     "outputs": []
    }
   ],
   "metadata": {}
  }
 ]
}