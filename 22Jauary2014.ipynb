{
 "metadata": {
  "name": ""
 },
 "nbformat": 3,
 "nbformat_minor": 0,
 "worksheets": [
  {
   "cells": [
    {
     "cell_type": "heading",
     "level": 1,
     "metadata": {},
     "source": [
      "22 January 2014 "
     ]
    },
    {
     "cell_type": "raw",
     "metadata": {},
     "source": [
      "* HAllA validation\n",
      "** AUC=~0.8 is more reasonable, see what's generating this problem in validation\n",
      "** Start with next time\n",
      "*** Using PCA to generate representatives for each cluster\n",
      "** Evaluate both + and - versions of hypothesis testing (ruling in vs. ruling out)\n",
      "*** Yekutieli works for +, but not -\n",
      "*** To evaluate -, start with plain old FDR over all hypothesis tests"
     ]
    },
    {
     "cell_type": "code",
     "collapsed": false,
     "input": [
      "import halla"
     ],
     "language": "python",
     "metadata": {},
     "outputs": [],
     "prompt_number": 23
    },
    {
     "cell_type": "code",
     "collapsed": false,
     "input": [
      "import strudel"
     ],
     "language": "python",
     "metadata": {},
     "outputs": [],
     "prompt_number": 3
    },
    {
     "cell_type": "code",
     "collapsed": false,
     "input": [
      "import halla.hierarchy, halla.test, halla.stats, halla.distance\n",
      "reload(halla.hierarchy)"
     ],
     "language": "python",
     "metadata": {},
     "outputs": [
      {
       "metadata": {},
       "output_type": "pyout",
       "prompt_number": 55,
       "text": [
        "<module 'halla.hierarchy' from 'halla/hierarchy/__init__.py'>"
       ]
      }
     ],
     "prompt_number": 55
    },
    {
     "cell_type": "code",
     "collapsed": false,
     "input": [
      "z1,z2 = [ halla.hierarchy.randtree( obj = False ) for _ in range(2) ]"
     ],
     "language": "python",
     "metadata": {},
     "outputs": [],
     "prompt_number": 6
    },
    {
     "cell_type": "code",
     "collapsed": false,
     "input": [
      "halla.hierarchy.dendrogram(z1)"
     ],
     "language": "python",
     "metadata": {},
     "outputs": [
      {
       "metadata": {},
       "output_type": "pyout",
       "prompt_number": 8,
       "text": [
        "{'color_list': ['b', 'g', 'g', 'g', 'g', 'g', 'b', 'b', 'b'],\n",
        " 'dcoord': [[0.0, 0.77564437614502946, 0.77564437614502946, 0.0],\n",
        "  [0.0, 0.0, 0.0, 0.0],\n",
        "  [0.0, 0.0, 0.0, 0.0],\n",
        "  [0.0, 0.0, 0.0, 0.0],\n",
        "  [0.0, 0.0, 0.0, 0.0],\n",
        "  [0.0, 0.36905042394738496, 0.36905042394738496, 0.0],\n",
        "  [0.0, 0.7312277389370414, 0.7312277389370414, 0.36905042394738496],\n",
        "  [0.0, 0.77564437614502946, 0.77564437614502946, 0.7312277389370414],\n",
        "  [0.77564437614502946,\n",
        "   0.78166497605830909,\n",
        "   0.78166497605830909,\n",
        "   0.77564437614502946]],\n",
        " 'icoord': [[5.0, 5.0, 15.0, 15.0],\n",
        "  [65.0, 65.0, 75.0, 75.0],\n",
        "  [55.0, 55.0, 70.0, 70.0],\n",
        "  [45.0, 45.0, 62.5, 62.5],\n",
        "  [85.0, 85.0, 95.0, 95.0],\n",
        "  [53.75, 53.75, 90.0, 90.0],\n",
        "  [35.0, 35.0, 71.875, 71.875],\n",
        "  [25.0, 25.0, 53.4375, 53.4375],\n",
        "  [10.0, 10.0, 39.21875, 39.21875]],\n",
        " 'ivl': ['4', '8', '2', '7', '1', '3', '5', '9', '0', '6'],\n",
        " 'leaves': [4, 8, 2, 7, 1, 3, 5, 9, 0, 6]}"
       ]
      },
      {
       "metadata": {},
       "output_type": "display_data",
       "png": "[encoded data removed]",
       "text": [
        "<matplotlib.figure.Figure at 0x5e9ff50>"
       ]
      }
     ],
     "prompt_number": 8
    },
    {
     "cell_type": "code",
     "collapsed": false,
     "input": [
      "halla.hierarchy.dendrogram( z2 ) "
     ],
     "language": "python",
     "metadata": {},
     "outputs": [
      {
       "metadata": {},
       "output_type": "pyout",
       "prompt_number": 9,
       "text": [
        "{'color_list': ['g', 'g', 'g', 'g', 'g', 'b', 'b', 'b', 'b'],\n",
        " 'dcoord': [[0.0, 0.0, 0.0, 0.0],\n",
        "  [0.0, 0.0, 0.0, 0.0],\n",
        "  [0.0, 0.0, 0.0, 0.0],\n",
        "  [0.0, 0.0, 0.0, 0.0],\n",
        "  [0.0, 0.0, 0.0, 0.0],\n",
        "  [0.0, 0.77416865186181116, 0.77416865186181116, 0.0],\n",
        "  [0.0, 0.74296831374325922, 0.74296831374325922, 0.0],\n",
        "  [0.0, 0.77564437614502946, 0.77564437614502946, 0.74296831374325922],\n",
        "  [0.77416865186181116,\n",
        "   0.77939253824327848,\n",
        "   0.77939253824327848,\n",
        "   0.77564437614502946]],\n",
        " 'icoord': [[55.0, 55.0, 65.0, 65.0],\n",
        "  [45.0, 45.0, 60.0, 60.0],\n",
        "  [35.0, 35.0, 52.5, 52.5],\n",
        "  [25.0, 25.0, 43.75, 43.75],\n",
        "  [15.0, 15.0, 34.375, 34.375],\n",
        "  [5.0, 5.0, 24.6875, 24.6875],\n",
        "  [85.0, 85.0, 95.0, 95.0],\n",
        "  [75.0, 75.0, 90.0, 90.0],\n",
        "  [14.84375, 14.84375, 82.5, 82.5]],\n",
        " 'ivl': ['7', '0', '3', '4', '6', '8', '9', '5', '1', '2'],\n",
        " 'leaves': [7, 0, 3, 4, 6, 8, 9, 5, 1, 2]}"
       ]
      },
      {
       "metadata": {},
       "output_type": "display_data",
       "png": "[encoded data removed]",
       "text": [
        "<matplotlib.figure.Figure at 0x5ed31d0>"
       ]
      }
     ],
     "prompt_number": 9
    },
    {
     "cell_type": "code",
     "collapsed": false,
     "input": [
      "t1, t2 =[ halla.hierarchy.to_tree( z ) for z in [z1,z2] ]"
     ],
     "language": "python",
     "metadata": {},
     "outputs": [],
     "prompt_number": 38
    },
    {
     "cell_type": "code",
     "collapsed": false,
     "input": [
      "lf1, lf2 = [ halla.hierarchy.reduce_tree_by_layer( t ) for t in [t1,t2] ] "
     ],
     "language": "python",
     "metadata": {},
     "outputs": [],
     "prompt_number": 39
    },
    {
     "cell_type": "code",
     "collapsed": false,
     "input": [
      "lf1"
     ],
     "language": "python",
     "metadata": {},
     "outputs": [
      {
       "metadata": {},
       "output_type": "pyout",
       "prompt_number": 40,
       "text": [
        "[(0, [4, 8, 2, 7, 1, 3, 5, 9, 0, 6]),\n",
        " (1, [4, 8]),\n",
        " (1, [2, 7, 1, 3, 5, 9, 0, 6]),\n",
        " (2, [4]),\n",
        " (2, [8]),\n",
        " (2, [2]),\n",
        " (2, [7, 1, 3, 5, 9, 0, 6]),\n",
        " (3, [7]),\n",
        " (3, [1, 3, 5, 9, 0, 6]),\n",
        " (4, [1, 3, 5, 9]),\n",
        " (4, [0, 6]),\n",
        " (5, [1]),\n",
        " (5, [3, 5, 9]),\n",
        " (5, [0]),\n",
        " (5, [6]),\n",
        " (6, [3]),\n",
        " (6, [5, 9]),\n",
        " (7, [5]),\n",
        " (7, [9])]"
       ]
      }
     ],
     "prompt_number": 40
    },
    {
     "cell_type": "code",
     "collapsed": false,
     "input": [
      "h1 = halla.hierarchy.couple_tree( [t1], [t1] ) "
     ],
     "language": "python",
     "metadata": {},
     "outputs": [],
     "prompt_number": 47
    },
    {
     "cell_type": "code",
     "collapsed": false,
     "input": [
      "h1"
     ],
     "language": "python",
     "metadata": {},
     "outputs": [
      {
       "metadata": {},
       "output_type": "pyout",
       "prompt_number": 48,
       "text": [
        "[<halla.hierarchy.Tree instance at 0x5ec4050>]"
       ]
      }
     ],
     "prompt_number": 48
    },
    {
     "cell_type": "code",
     "collapsed": false,
     "input": [
      "h1[0].get_data() "
     ],
     "language": "python",
     "metadata": {},
     "outputs": [
      {
       "metadata": {},
       "output_type": "pyout",
       "prompt_number": 49,
       "text": [
        "[[4, 8, 2, 7, 1, 3, 5, 9, 0, 6], [4, 8, 2, 7, 1, 3, 5, 9, 0, 6]]"
       ]
      }
     ],
     "prompt_number": 49
    },
    {
     "cell_type": "code",
     "collapsed": false,
     "input": [
      "reload(halla.hierarchy)"
     ],
     "language": "python",
     "metadata": {},
     "outputs": [
      {
       "metadata": {},
       "output_type": "pyout",
       "prompt_number": 84,
       "text": [
        "<module 'halla.hierarchy' from 'halla/hierarchy/__init__.py'>"
       ]
      }
     ],
     "prompt_number": 84
    },
    {
     "cell_type": "code",
     "collapsed": false,
     "input": [
      "halla.hierarchy.reduce_tree( h1[0] )"
     ],
     "language": "python",
     "metadata": {},
     "outputs": [
      {
       "metadata": {},
       "output_type": "pyout",
       "prompt_number": 85,
       "text": [
        "[[[4], [4]],\n",
        " [[4], [8]],\n",
        " [[8], [4]],\n",
        " [[8], [8]],\n",
        " [[4], [2]],\n",
        " [[4], [7, 1, 3, 5, 9, 0, 6]],\n",
        " [[8], [2]],\n",
        " [[8], [7, 1, 3, 5, 9, 0, 6]],\n",
        " [[2], [4]],\n",
        " [[2], [8]],\n",
        " [[7, 1, 3, 5, 9, 0, 6], [4]],\n",
        " [[7, 1, 3, 5, 9, 0, 6], [8]],\n",
        " [[2], [2]],\n",
        " [[2], [7, 1, 3, 5, 9, 0, 6]],\n",
        " [[7, 1, 3, 5, 9, 0, 6], [2]],\n",
        " [[7], [7]],\n",
        " [[7], [1, 3, 5, 9, 0, 6]],\n",
        " [[1, 3, 5, 9, 0, 6], [7]],\n",
        " [[1], [1]],\n",
        " [[1], [3, 5, 9]],\n",
        " [[3, 5, 9], [1]],\n",
        " [[3], [3]],\n",
        " [[3], [5, 9]],\n",
        " [[5, 9], [3]],\n",
        " [[5], [5]],\n",
        " [[5], [9]],\n",
        " [[9], [5]],\n",
        " [[9], [9]],\n",
        " [[1], [0]],\n",
        " [[1], [6]],\n",
        " [[3, 5, 9], [0]],\n",
        " [[3, 5, 9], [6]],\n",
        " [[0], [1]],\n",
        " [[0], [3, 5, 9]],\n",
        " [[6], [1]],\n",
        " [[6], [3, 5, 9]],\n",
        " [[0], [0]],\n",
        " [[0], [6]],\n",
        " [[6], [0]],\n",
        " [[6], [6]]]"
       ]
      }
     ],
     "prompt_number": 85
    },
    {
     "cell_type": "code",
     "collapsed": false,
     "input": [
      "halla.hierarchy.reduce_tree_by_layer( h1[0] )"
     ],
     "language": "python",
     "metadata": {},
     "outputs": [
      {
       "metadata": {},
       "output_type": "pyout",
       "prompt_number": 88,
       "text": [
        "[(0, [[4, 8, 2, 7, 1, 3, 5, 9, 0, 6], [4, 8, 2, 7, 1, 3, 5, 9, 0, 6]]),\n",
        " (1, [[4, 8], [4, 8]]),\n",
        " (1, [[4, 8], [2, 7, 1, 3, 5, 9, 0, 6]]),\n",
        " (1, [[2, 7, 1, 3, 5, 9, 0, 6], [4, 8]]),\n",
        " (1, [[2, 7, 1, 3, 5, 9, 0, 6], [2, 7, 1, 3, 5, 9, 0, 6]]),\n",
        " (2, [[4], [4]]),\n",
        " (2, [[4], [8]]),\n",
        " (2, [[8], [4]]),\n",
        " (2, [[8], [8]]),\n",
        " (2, [[4], [2]]),\n",
        " (2, [[4], [7, 1, 3, 5, 9, 0, 6]]),\n",
        " (2, [[8], [2]]),\n",
        " (2, [[8], [7, 1, 3, 5, 9, 0, 6]]),\n",
        " (2, [[2], [4]]),\n",
        " (2, [[2], [8]]),\n",
        " (2, [[7, 1, 3, 5, 9, 0, 6], [4]]),\n",
        " (2, [[7, 1, 3, 5, 9, 0, 6], [8]]),\n",
        " (2, [[2], [2]]),\n",
        " (2, [[2], [7, 1, 3, 5, 9, 0, 6]]),\n",
        " (2, [[7, 1, 3, 5, 9, 0, 6], [2]]),\n",
        " (2, [[7, 1, 3, 5, 9, 0, 6], [7, 1, 3, 5, 9, 0, 6]]),\n",
        " (3, [[7], [7]]),\n",
        " (3, [[7], [1, 3, 5, 9, 0, 6]]),\n",
        " (3, [[1, 3, 5, 9, 0, 6], [7]]),\n",
        " (3, [[1, 3, 5, 9, 0, 6], [1, 3, 5, 9, 0, 6]]),\n",
        " (4, [[1, 3, 5, 9], [1, 3, 5, 9]]),\n",
        " (4, [[1, 3, 5, 9], [0, 6]]),\n",
        " (4, [[0, 6], [1, 3, 5, 9]]),\n",
        " (4, [[0, 6], [0, 6]]),\n",
        " (5, [[1], [1]]),\n",
        " (5, [[1], [3, 5, 9]]),\n",
        " (5, [[3, 5, 9], [1]]),\n",
        " (5, [[3, 5, 9], [3, 5, 9]]),\n",
        " (5, [[1], [0]]),\n",
        " (5, [[1], [6]]),\n",
        " (5, [[3, 5, 9], [0]]),\n",
        " (5, [[3, 5, 9], [6]]),\n",
        " (5, [[0], [1]]),\n",
        " (5, [[0], [3, 5, 9]]),\n",
        " (5, [[6], [1]]),\n",
        " (5, [[6], [3, 5, 9]]),\n",
        " (5, [[0], [0]]),\n",
        " (5, [[0], [6]]),\n",
        " (5, [[6], [0]]),\n",
        " (5, [[6], [6]]),\n",
        " (6, [[3], [3]]),\n",
        " (6, [[3], [5, 9]]),\n",
        " (6, [[5, 9], [3]]),\n",
        " (6, [[5, 9], [5, 9]]),\n",
        " (7, [[5], [5]]),\n",
        " (7, [[5], [9]]),\n",
        " (7, [[9], [5]]),\n",
        " (7, [[9], [9]])]"
       ]
      }
     ],
     "prompt_number": 88
    },
    {
     "cell_type": "code",
     "collapsed": false,
     "input": [
      "lf1"
     ],
     "language": "python",
     "metadata": {},
     "outputs": [
      {
       "metadata": {},
       "output_type": "pyout",
       "prompt_number": 89,
       "text": [
        "[(0, [4, 8, 2, 7, 1, 3, 5, 9, 0, 6]),\n",
        " (1, [4, 8]),\n",
        " (1, [2, 7, 1, 3, 5, 9, 0, 6]),\n",
        " (2, [4]),\n",
        " (2, [8]),\n",
        " (2, [2]),\n",
        " (2, [7, 1, 3, 5, 9, 0, 6]),\n",
        " (3, [7]),\n",
        " (3, [1, 3, 5, 9, 0, 6]),\n",
        " (4, [1, 3, 5, 9]),\n",
        " (4, [0, 6]),\n",
        " (5, [1]),\n",
        " (5, [3, 5, 9]),\n",
        " (5, [0]),\n",
        " (5, [6]),\n",
        " (6, [3]),\n",
        " (6, [5, 9]),\n",
        " (7, [5]),\n",
        " (7, [9])]"
       ]
      }
     ],
     "prompt_number": 89
    },
    {
     "cell_type": "heading",
     "level": 2,
     "metadata": {},
     "source": [
      "Test Pipeline"
     ]
    },
    {
     "cell_type": "code",
     "collapsed": false,
     "input": [
      "s = strudel.Strudel()\n",
      "X,Y = [ s.randmat( shape = (10,100) ) for _ in range(2) ] "
     ],
     "language": "python",
     "metadata": {},
     "outputs": [],
     "prompt_number": 92
    },
    {
     "cell_type": "code",
     "collapsed": false,
     "input": [
      "dX, dY = halla.discretize( X ), halla.discretize( Y )"
     ],
     "language": "python",
     "metadata": {},
     "outputs": [],
     "prompt_number": 93
    },
    {
     "cell_type": "code",
     "collapsed": false,
     "input": [
      "zX, zY = halla.hclust( dX, bTree = False ), halla.hclust( dY, bTree = False )"
     ],
     "language": "python",
     "metadata": {},
     "outputs": [],
     "prompt_number": 122
    },
    {
     "cell_type": "code",
     "collapsed": false,
     "input": [
      "halla.dendrogram( zX )"
     ],
     "language": "python",
     "metadata": {},
     "outputs": [
      {
       "metadata": {},
       "output_type": "pyout",
       "prompt_number": 124,
       "text": [
        "{'color_list': ['b', 'b', 'b', 'b', 'b', 'b', 'b', 'b', 'b'],\n",
        " 'dcoord': [[0.0, 0.73497590103529042, 0.73497590103529042, 0.0],\n",
        "  [0.0, 0.73872406313353944, 0.73872406313353944, 0.73497590103529042],\n",
        "  [0.0, 0.74099650094857017, 0.74099650094857017, 0.0],\n",
        "  [0.73872406313353944,\n",
        "   0.7478138143936619,\n",
        "   0.7478138143936619,\n",
        "   0.74099650094857017],\n",
        "  [0.0, 0.73350017675207213, 0.73350017675207213, 0.0],\n",
        "  [0.0, 0.75451342505834762, 0.75451342505834762, 0.73350017675207213],\n",
        "  [0.7478138143936619,\n",
        "   0.75500951356981838,\n",
        "   0.75500951356981838,\n",
        "   0.75451342505834762],\n",
        "  [0.0, 0.76962377623174982, 0.76962377623174982, 0.75500951356981838],\n",
        "  [0.0, 0.77484766261321725, 0.77484766261321725, 0.76962377623174982]],\n",
        " 'icoord': [[35.0, 35.0, 45.0, 45.0],\n",
        "  [25.0, 25.0, 40.0, 40.0],\n",
        "  [55.0, 55.0, 65.0, 65.0],\n",
        "  [32.5, 32.5, 60.0, 60.0],\n",
        "  [85.0, 85.0, 95.0, 95.0],\n",
        "  [75.0, 75.0, 90.0, 90.0],\n",
        "  [46.25, 46.25, 82.5, 82.5],\n",
        "  [15.0, 15.0, 64.375, 64.375],\n",
        "  [5.0, 5.0, 39.6875, 39.6875]],\n",
        " 'ivl': ['8', '9', '4', '0', '7', '1', '6', '3', '2', '5'],\n",
        " 'leaves': [8, 9, 4, 0, 7, 1, 6, 3, 2, 5]}"
       ]
      },
      {
       "metadata": {},
       "output_type": "display_data",
       "png": "[encoded data removed]",
       "text": [
        "<matplotlib.figure.Figure at 0x60f00d0>"
       ]
      }
     ],
     "prompt_number": 124
    },
    {
     "cell_type": "code",
     "collapsed": false,
     "input": [
      "halla.dendrogram( zY ) "
     ],
     "language": "python",
     "metadata": {},
     "outputs": [
      {
       "metadata": {},
       "output_type": "pyout",
       "prompt_number": 125,
       "text": [
        "{'color_list': ['b', 'b', 'b', 'b', 'b', 'b', 'b', 'b', 'b'],\n",
        " 'dcoord': [[0.0, 0.73270346322025981, 0.73270346322025981, 0.0],\n",
        "  [0.0, 0.74701710086184969, 0.74701710086184969, 0.0],\n",
        "  [0.0, 0.75156197649191103, 0.75156197649191103, 0.0],\n",
        "  [0.74701710086184969,\n",
        "   0.75531013859016005,\n",
        "   0.75531013859016005,\n",
        "   0.75156197649191103],\n",
        "  [0.73270346322025981,\n",
        "   0.76133073850343957,\n",
        "   0.76133073850343957,\n",
        "   0.75531013859016005],\n",
        "  [0.0, 0.77042048976356214, 0.77042048976356214, 0.76133073850343957],\n",
        "  [0.0, 0.77109950051496823, 0.77109950051496823, 0.77042048976356214],\n",
        "  [0.0, 0.77189621404678055, 0.77189621404678055, 0.77109950051496823],\n",
        "  [0.0, 0.77791681396006007, 0.77791681396006007, 0.77189621404678055]],\n",
        " 'icoord': [[45.0, 45.0, 55.0, 55.0],\n",
        "  [65.0, 65.0, 75.0, 75.0],\n",
        "  [85.0, 85.0, 95.0, 95.0],\n",
        "  [70.0, 70.0, 90.0, 90.0],\n",
        "  [50.0, 50.0, 80.0, 80.0],\n",
        "  [35.0, 35.0, 65.0, 65.0],\n",
        "  [25.0, 25.0, 50.0, 50.0],\n",
        "  [15.0, 15.0, 37.5, 37.5],\n",
        "  [5.0, 5.0, 26.25, 26.25]],\n",
        " 'ivl': ['7', '9', '2', '4', '3', '8', '5', '6', '0', '1'],\n",
        " 'leaves': [7, 9, 2, 4, 3, 8, 5, 6, 0, 1]}"
       ]
      },
      {
       "metadata": {},
       "output_type": "display_data",
       "png": "[encoded data removed]",
       "text": [
        "<matplotlib.figure.Figure at 0x5c497d0>"
       ]
      }
     ],
     "prompt_number": 125
    },
    {
     "cell_type": "code",
     "collapsed": false,
     "input": [
      "tX, tY = halla.hclust( dX, bTree = True ), halla.hclust( dY, bTree = True ) "
     ],
     "language": "python",
     "metadata": {},
     "outputs": [],
     "prompt_number": 126
    },
    {
     "cell_type": "code",
     "collapsed": false,
     "input": [
      "tH = halla.hierarchy.couple_tree( [tX], [tY] ) "
     ],
     "language": "python",
     "metadata": {},
     "outputs": [],
     "prompt_number": 127
    },
    {
     "cell_type": "code",
     "collapsed": false,
     "input": [
      "lfH = halla.hierarchy.reduce_tree_by_layer( tH )"
     ],
     "language": "python",
     "metadata": {},
     "outputs": [],
     "prompt_number": 128
    },
    {
     "cell_type": "code",
     "collapsed": false,
     "input": [
      "[t[1] for t in lfH][1]"
     ],
     "language": "python",
     "metadata": {},
     "outputs": [
      {
       "metadata": {},
       "output_type": "pyout",
       "prompt_number": 129,
       "text": [
        "[[8], [7]]"
       ]
      }
     ],
     "prompt_number": 129
    },
    {
     "cell_type": "code",
     "collapsed": false,
     "input": [
      "reload(halla);reload(halla.hierarchy)\n",
      "aOut = halla.hierarchy.all_against_all( tH, X, Y )"
     ],
     "language": "python",
     "metadata": {},
     "outputs": [],
     "prompt_number": 130
    },
    {
     "cell_type": "code",
     "collapsed": false,
     "input": [
      "for item in aOut:\n",
      "    print item"
     ],
     "language": "python",
     "metadata": {},
     "outputs": [
      {
       "output_type": "stream",
       "stream": "stdout",
       "text": [
        "[[[8, 9, 4, 0, 7, 1, 6, 3, 2, 5], [7, 9, 2, 4, 3, 8, 5, 6, 0, 1]], 0.25]\n",
        "[[[8], [7]], 0.39000000000000001]\n",
        "[[[8], [9, 2, 4, 3, 8, 5, 6, 0, 1]], 0.58999999999999997]\n",
        "[[[9, 4, 0, 7, 1, 6, 3, 2, 5], [7]], 0.22]\n",
        "[[[9, 4, 0, 7, 1, 6, 3, 2, 5], [9, 2, 4, 3, 8, 5, 6, 0, 1]], 0.20999999999999999]\n",
        "[[[9], [9]], 0.34000000000000002]\n",
        "[[[9], [2, 4, 3, 8, 5, 6, 0, 1]], 0.27000000000000002]\n",
        "[[[4, 0, 7, 1, 6, 3, 2, 5], [9]], 0.59499999999999997]\n",
        "[[[4, 0, 7, 1, 6, 3, 2, 5], [2, 4, 3, 8, 5, 6, 0, 1]], 0.0]\n",
        "[[[4, 0, 7, 1, 6], [2]], 0.070000000000000007]\n",
        "[[[4, 0, 7, 1, 6], [4, 3, 8, 5, 6, 0, 1]], 0.56999999999999995]\n",
        "[[[3, 2, 5], [2]], 0.059999999999999998]\n",
        "[[[3, 2, 5], [4, 3, 8, 5, 6, 0, 1]], 0.78000000000000003]\n",
        "[[[4, 0, 7], [4]], 0.33000000000000002]\n",
        "[[[4, 0, 7], [3, 8, 5, 6, 0, 1]], 0.73999999999999999]\n",
        "[[[1, 6], [4]], 0.60999999999999999]\n",
        "[[[1, 6], [3, 8, 5, 6, 0, 1]], 0.48999999999999999]\n",
        "[[[3], [4]], 0.90000000000000002]\n",
        "[[[3], [3, 8, 5, 6, 0, 1]], 0.0]\n",
        "[[[2, 5], [4]], 0.34999999999999998]\n",
        "[[[2, 5], [3, 8, 5, 6, 0, 1]], 0.91000000000000003]\n",
        "[[[4], [3, 8]], 0.70999999999999996]\n",
        "[[[4], [5, 6, 0, 1]], 0.71999999999999997]\n",
        "[[[0, 7], [3, 8]], 0.96999999999999997]\n",
        "[[[0, 7], [5, 6, 0, 1]], 0.84999999999999998]\n",
        "[[[1], [3, 8]], 0.46999999999999997]\n",
        "[[[1], [5, 6, 0, 1]], 0.77000000000000002]\n",
        "[[[6], [3, 8]], 0.80000000000000004]\n",
        "[[[6], [5, 6, 0, 1]], 0.23999999999999999]\n",
        "[[[2], [3, 8]], 0.28000000000000003]\n",
        "[[[2], [5, 6, 0, 1]], 0.029999999999999999]\n",
        "[[[5], [3, 8]], 0.059999999999999998]\n",
        "[[[5], [5, 6, 0, 1]], 0.56000000000000005]\n",
        "[[[0], [3]], 0.59499999999999997]\n",
        "[[[0], [8]], 0.0]\n",
        "[[[7], [3]], 0.37]\n",
        "[[[7], [8]], 0.58999999999999997]\n",
        "[[[0], [5, 6]], 0.46000000000000002]\n",
        "[[[0], [0, 1]], 0.029999999999999999]\n",
        "[[[7], [5, 6]], 0.41999999999999998]\n",
        "[[[7], [0, 1]], 0.070000000000000007]\n"
       ]
      }
     ],
     "prompt_number": 131
    },
    {
     "cell_type": "code",
     "collapsed": false,
     "input": [
      "import pylab as pl\n",
      "aOutNew = sort( [a[1] for a in aOut] )\n",
      "pl.hist( aOutNew )"
     ],
     "language": "python",
     "metadata": {},
     "outputs": [
      {
       "metadata": {},
       "output_type": "pyout",
       "prompt_number": 136,
       "text": [
        "(array([9, 0, 6, 4, 4, 3, 5, 4, 3, 3]),\n",
        " array([ 0.   ,  0.097,  0.194,  0.291,  0.388,  0.485,  0.582,  0.679,\n",
        "        0.776,  0.873,  0.97 ]),\n",
        " <a list of 10 Patch objects>)"
       ]
      },
      {
       "metadata": {},
       "output_type": "display_data",
       "png": "[encoded data removed]",
       "text": [
        "<matplotlib.figure.Figure at 0x6073190>"
       ]
      }
     ],
     "prompt_number": 136
    },
    {
     "cell_type": "code",
     "collapsed": false,
     "input": [
      "pl.plot( aOutNew )"
     ],
     "language": "python",
     "metadata": {},
     "outputs": [
      {
       "metadata": {},
       "output_type": "pyout",
       "prompt_number": 137,
       "text": [
        "[<matplotlib.lines.Line2D at 0x65b42d0>]"
       ]
      },
      {
       "metadata": {},
       "output_type": "display_data",
       "png": "[encoded data removed]",
       "text": [
        "<matplotlib.figure.Figure at 0x6072bd0>"
       ]
      }
     ],
     "prompt_number": 137
    },
    {
     "cell_type": "code",
     "collapsed": false,
     "input": [],
     "language": "python",
     "metadata": {},
     "outputs": []
    }
   ],
   "metadata": {}
  }
 ]
}