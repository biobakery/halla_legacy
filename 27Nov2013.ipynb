{
 "metadata": {
  "name": ""
 },
 "nbformat": 3,
 "nbformat_minor": 0,
 "worksheets": [
  {
   "cells": [
    {
     "cell_type": "heading",
     "level": 1,
     "metadata": {},
     "source": [
      "HAllA: Hierarchical All-against-all"
     ]
    },
    {
     "cell_type": "heading",
     "level": 2,
     "metadata": {},
     "source": [
      "1. Load test data and parse (discretize)"
     ]
    },
    {
     "cell_type": "code",
     "collapsed": false,
     "input": [
      "import halla.stats, halla.distance, halla.hierarchy"
     ],
     "language": "python",
     "metadata": {},
     "outputs": [],
     "prompt_number": 2
    },
    {
     "cell_type": "code",
     "collapsed": false,
     "input": [
      "import numpy, scipy"
     ],
     "language": "python",
     "metadata": {},
     "outputs": [],
     "prompt_number": 3
    },
    {
     "cell_type": "code",
     "collapsed": false,
     "input": [
      "from numpy import array"
     ],
     "language": "python",
     "metadata": {},
     "outputs": [],
     "prompt_number": 4
    },
    {
     "cell_type": "code",
     "collapsed": false,
     "input": [
      "x = array([[0.1,0.2,0.3,0.4],[1,1,1,0],[0.01,0.04,0.09,0.16],[0,0,0,1]])\n",
      "y = array([[-0.1,-0.2,-0.3,-0.4],[1,1,0,0],[0.25,0.5,0.75,1.0],\n",
      "\t\t[0.015625,0.125,0.421875,1.0]])\n",
      "z = array([[1,1,1,0],[-0.01,-0.04,-0.09,-0.16],[0.2,0.3,0.4,0.5],[0,0,0,1]])"
     ],
     "language": "python",
     "metadata": {},
     "outputs": [],
     "prompt_number": 5
    },
    {
     "cell_type": "code",
     "collapsed": false,
     "input": [
      "dx = halla.stats.discretize( x, iN = None, method = None, aiSkip = [1,3] )\n",
      "dy = halla.stats.discretize( y, iN = None, method = None, aiSkip = [1] )\n",
      "dz = halla.stats.discretize( z, iN = None, method = None, aiSkip = [0,3] )    "
     ],
     "language": "python",
     "metadata": {},
     "outputs": [],
     "prompt_number": 6
    },
    {
     "cell_type": "code",
     "collapsed": false,
     "input": [
      "dx"
     ],
     "language": "python",
     "metadata": {},
     "outputs": [
      {
       "metadata": {},
       "output_type": "pyout",
       "prompt_number": 7,
       "text": [
        "array([[ 0.,  0.,  1.,  1.],\n",
        "       [ 1.,  1.,  1.,  0.],\n",
        "       [ 0.,  0.,  1.,  1.],\n",
        "       [ 0.,  0.,  0.,  1.]])"
       ]
      }
     ],
     "prompt_number": 7
    },
    {
     "cell_type": "code",
     "collapsed": false,
     "input": [
      "dy"
     ],
     "language": "python",
     "metadata": {},
     "outputs": [
      {
       "metadata": {},
       "output_type": "pyout",
       "prompt_number": 8,
       "text": [
        "array([[ 1.,  1.,  0.,  0.],\n",
        "       [ 1.,  1.,  0.,  0.],\n",
        "       [ 0.,  0.,  1.,  1.],\n",
        "       [ 0.,  0.,  1.,  1.]])"
       ]
      }
     ],
     "prompt_number": 8
    },
    {
     "cell_type": "code",
     "collapsed": false,
     "input": [
      "dz"
     ],
     "language": "python",
     "metadata": {},
     "outputs": [
      {
       "metadata": {},
       "output_type": "pyout",
       "prompt_number": 9,
       "text": [
        "array([[ 1.,  1.,  1.,  0.],\n",
        "       [ 1.,  1.,  0.,  0.],\n",
        "       [ 0.,  0.,  1.,  1.],\n",
        "       [ 0.,  0.,  0.,  1.]])"
       ]
      }
     ],
     "prompt_number": 9
    },
    {
     "cell_type": "code",
     "collapsed": false,
     "input": [
      "lxmi = halla.hierarchy.hclust( dx, pdist_metric = halla.distance.norm_mid )\n",
      "lymi = halla.hierarchy.hclust( dy, pdist_metric = halla.distance.norm_mid )\n",
      "lzmi = halla.hierarchy.hclust( dz, pdist_metric = halla.distance.norm_mid )"
     ],
     "language": "python",
     "metadata": {},
     "outputs": [],
     "prompt_number": 10
    },
    {
     "cell_type": "code",
     "collapsed": false,
     "input": [
      "halla.hierarchy.dendrogram(lxmi)"
     ],
     "language": "python",
     "metadata": {},
     "outputs": [
      {
       "metadata": {},
       "output_type": "pyout",
       "prompt_number": 11,
       "text": [
        "{'color_list': ['g', 'r', 'b'],\n",
        " 'dcoord': [[0.0, 0.0, 0.0, 0.0],\n",
        "  [0.0, 0.0, 0.0, 0.0],\n",
        "  [0.0, 0.65440797005578877, 0.65440797005578877, 0.0]],\n",
        " 'icoord': [[5.0, 5.0, 15.0, 15.0],\n",
        "  [25.0, 25.0, 35.0, 35.0],\n",
        "  [10.0, 10.0, 30.0, 30.0]],\n",
        " 'ivl': ['1', '3', '0', '2'],\n",
        " 'leaves': [1, 3, 0, 2]}"
       ]
      },
      {
       "metadata": {},
       "output_type": "display_data",
       "png": "[encoded data removed]",
       "text": [
        "<matplotlib.figure.Figure at 0x6f6f550>"
       ]
      }
     ],
     "prompt_number": 11
    },
    {
     "cell_type": "code",
     "collapsed": false,
     "input": [
      "halla.hierarchy.dendrogram(lymi)"
     ],
     "language": "python",
     "metadata": {},
     "outputs": [
      {
       "output_type": "stream",
       "stream": "stderr",
       "text": [
        "/usr/lib/pymodules/python2.7/matplotlib/axes.py:2667: UserWarning: Attempting to set identical bottom==top results\n",
        "in singular transformations; automatically expanding.\n",
        "bottom=0, top=0.0\n",
        "  + 'bottom=%s, top=%s') % (bottom, top))\n"
       ]
      },
      {
       "metadata": {},
       "output_type": "pyout",
       "prompt_number": 12,
       "text": [
        "{'color_list': ['b', 'b', 'b'],\n",
        " 'dcoord': [[0.0, 0.0, 0.0, 0.0], [0.0, 0.0, 0.0, 0.0], [0.0, 0.0, 0.0, 0.0]],\n",
        " 'icoord': [[25.0, 25.0, 35.0, 35.0],\n",
        "  [15.0, 15.0, 30.0, 30.0],\n",
        "  [5.0, 5.0, 22.5, 22.5]],\n",
        " 'ivl': ['0', '1', '2', '3'],\n",
        " 'leaves': [0, 1, 2, 3]}"
       ]
      },
      {
       "metadata": {},
       "output_type": "display_data",
       "png": "[encoded data removed]",
       "text": [
        "<matplotlib.figure.Figure at 0x702b7d0>"
       ]
      }
     ],
     "prompt_number": 12
    },
    {
     "cell_type": "code",
     "collapsed": false,
     "input": [
      "halla.hierarchy.dendrogram(lzmi)"
     ],
     "language": "python",
     "metadata": {},
     "outputs": [
      {
       "metadata": {},
       "output_type": "pyout",
       "prompt_number": 13,
       "text": [
        "{'color_list': ['g', 'r', 'b'],\n",
        " 'dcoord': [[0.0, 0.0, 0.0, 0.0],\n",
        "  [0.0, 0.0, 0.0, 0.0],\n",
        "  [0.0, 0.65440797005578877, 0.65440797005578877, 0.0]],\n",
        " 'icoord': [[5.0, 5.0, 15.0, 15.0],\n",
        "  [25.0, 25.0, 35.0, 35.0],\n",
        "  [10.0, 10.0, 30.0, 30.0]],\n",
        " 'ivl': ['1', '2', '0', '3'],\n",
        " 'leaves': [1, 2, 0, 3]}"
       ]
      },
      {
       "metadata": {},
       "output_type": "display_data",
       "png": "[encoded data removed]",
       "text": [
        "<matplotlib.figure.Figure at 0x72a77d0>"
       ]
      }
     ],
     "prompt_number": 13
    },
    {
     "cell_type": "code",
     "collapsed": false,
     "input": [
      "tx = halla.hierarchy.to_tree( lxmi ) \n",
      "ty = halla.hierarchy.to_tree( lymi )\n",
      "tz = halla.hierarchy.to_tree( lzmi )"
     ],
     "language": "python",
     "metadata": {},
     "outputs": [],
     "prompt_number": 20
    },
    {
     "cell_type": "code",
     "collapsed": false,
     "input": [
      "tx, ty, tz"
     ],
     "language": "python",
     "metadata": {},
     "outputs": [
      {
       "metadata": {},
       "output_type": "pyout",
       "prompt_number": 21,
       "text": [
        "(<scipy.cluster.hierarchy.ClusterNode instance at 0x7043ea8>,\n",
        " <scipy.cluster.hierarchy.ClusterNode instance at 0x7043998>,\n",
        " <scipy.cluster.hierarchy.ClusterNode instance at 0x7043c68>)"
       ]
      }
     ],
     "prompt_number": 21
    },
    {
     "cell_type": "code",
     "collapsed": false,
     "input": [
      "aOut = halla.hierarchy.reduce_tree_by_layer( [tx] )\n",
      "aOut"
     ],
     "language": "python",
     "metadata": {},
     "outputs": [
      {
       "metadata": {},
       "output_type": "pyout",
       "prompt_number": 23,
       "text": [
        "[(0, [1, 3, 0, 2]),\n",
        " (1, [1, 3]),\n",
        " (1, [0, 2]),\n",
        " (2, [1]),\n",
        " (2, [0]),\n",
        " (2, [3]),\n",
        " (2, [2])]"
       ]
      }
     ],
     "prompt_number": 23
    },
    {
     "cell_type": "code",
     "collapsed": false,
     "input": [
      "zip(*aOut)[0]"
     ],
     "language": "python",
     "metadata": {},
     "outputs": [
      {
       "metadata": {},
       "output_type": "pyout",
       "prompt_number": 17,
       "text": [
        "(0, 1, 1, 2, 2, 2, 2)"
       ]
      }
     ],
     "prompt_number": 17
    },
    {
     "cell_type": "code",
     "collapsed": false,
     "input": [
      "iX = halla.hierarchy.depth_tree( tx ) \n",
      "iY = halla.hierarchy.depth_tree( ty ) \n",
      "iZ = halla.hierarchy.depth_tree( tz ) "
     ],
     "language": "python",
     "metadata": {},
     "outputs": [],
     "prompt_number": 22
    },
    {
     "cell_type": "code",
     "collapsed": false,
     "input": [],
     "language": "python",
     "metadata": {},
     "outputs": []
    }
   ],
   "metadata": {}
  }
 ]
}