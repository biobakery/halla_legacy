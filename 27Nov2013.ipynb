{
 "metadata": {
  "name": ""
 },
 "nbformat": 3,
 "nbformat_minor": 0,
 "worksheets": [
  {
   "cells": [
    {
     "cell_type": "heading",
     "level": 1,
     "metadata": {},
     "source": [
      "HAllA: Hierarchical All-against-all"
     ]
    },
    {
     "cell_type": "heading",
     "level": 2,
     "metadata": {},
     "source": [
      "Load test data and parse (discretize)"
     ]
    },
    {
     "cell_type": "code",
     "collapsed": false,
     "input": [
      "import halla.stats, halla.distance, halla.hierarchy"
     ],
     "language": "python",
     "metadata": {},
     "outputs": [],
     "prompt_number": 113
    },
    {
     "cell_type": "code",
     "collapsed": false,
     "input": [
      "import matplotlib.pyplot as plt\n",
      "import numpy, scipy"
     ],
     "language": "python",
     "metadata": {},
     "outputs": [],
     "prompt_number": 114
    },
    {
     "cell_type": "code",
     "collapsed": false,
     "input": [
      "from numpy import array"
     ],
     "language": "python",
     "metadata": {},
     "outputs": [],
     "prompt_number": 3
    },
    {
     "cell_type": "code",
     "collapsed": false,
     "input": [
      "x = array([[0.1,0.2,0.3,0.4],[1,1,1,0],[0.01,0.04,0.09,0.16],[0,0,0,1]])\n",
      "y = array([[-0.1,-0.2,-0.3,-0.4],[1,1,0,0],[0.25,0.5,0.75,1.0],\n",
      "\t\t[0.015625,0.125,0.421875,1.0]])\n",
      "z = array([[1,1,1,0],[-0.01,-0.04,-0.09,-0.16],[0.2,0.3,0.4,0.5],[0,0,0,1]])"
     ],
     "language": "python",
     "metadata": {},
     "outputs": [],
     "prompt_number": 4
    },
    {
     "cell_type": "code",
     "collapsed": false,
     "input": [
      "dx = halla.stats.discretize( x, iN = None, method = None, aiSkip = [1,3] )\n",
      "dy = halla.stats.discretize( y, iN = None, method = None, aiSkip = [1] )\n",
      "dz = halla.stats.discretize( z, iN = None, method = None, aiSkip = [0,3] )    "
     ],
     "language": "python",
     "metadata": {},
     "outputs": [],
     "prompt_number": 5
    },
    {
     "cell_type": "code",
     "collapsed": false,
     "input": [
      "dx"
     ],
     "language": "python",
     "metadata": {},
     "outputs": [
      {
       "metadata": {},
       "output_type": "pyout",
       "prompt_number": 6,
       "text": [
        "array([[ 0.,  0.,  1.,  1.],\n",
        "       [ 1.,  1.,  1.,  0.],\n",
        "       [ 0.,  0.,  1.,  1.],\n",
        "       [ 0.,  0.,  0.,  1.]])"
       ]
      }
     ],
     "prompt_number": 6
    },
    {
     "cell_type": "code",
     "collapsed": false,
     "input": [
      "dy"
     ],
     "language": "python",
     "metadata": {},
     "outputs": [
      {
       "metadata": {},
       "output_type": "pyout",
       "prompt_number": 7,
       "text": [
        "array([[ 1.,  1.,  0.,  0.],\n",
        "       [ 1.,  1.,  0.,  0.],\n",
        "       [ 0.,  0.,  1.,  1.],\n",
        "       [ 0.,  0.,  1.,  1.]])"
       ]
      }
     ],
     "prompt_number": 7
    },
    {
     "cell_type": "code",
     "collapsed": false,
     "input": [
      "dz"
     ],
     "language": "python",
     "metadata": {},
     "outputs": [
      {
       "metadata": {},
       "output_type": "pyout",
       "prompt_number": 8,
       "text": [
        "array([[ 1.,  1.,  1.,  0.],\n",
        "       [ 1.,  1.,  0.,  0.],\n",
        "       [ 0.,  0.,  1.,  1.],\n",
        "       [ 0.,  0.,  0.,  1.]])"
       ]
      }
     ],
     "prompt_number": 8
    },
    {
     "cell_type": "code",
     "collapsed": false,
     "input": [
      "lxmi = halla.hierarchy.hclust( dx, pdist_metric = halla.distance.norm_mid )\n",
      "lymi = halla.hierarchy.hclust( dy, pdist_metric = halla.distance.norm_mid )\n",
      "lzmi = halla.hierarchy.hclust( dz, pdist_metric = halla.distance.norm_mid )"
     ],
     "language": "python",
     "metadata": {},
     "outputs": [],
     "prompt_number": 9
    },
    {
     "cell_type": "code",
     "collapsed": false,
     "input": [
      "halla.hierarchy.dendrogram(lxmi)"
     ],
     "language": "python",
     "metadata": {},
     "outputs": [
      {
       "metadata": {},
       "output_type": "pyout",
       "prompt_number": 10,
       "text": [
        "{'color_list': ['g', 'r', 'b'],\n",
        " 'dcoord': [[0.0, 0.0, 0.0, 0.0],\n",
        "  [0.0, 0.0, 0.0, 0.0],\n",
        "  [0.0, 0.65440797005578877, 0.65440797005578877, 0.0]],\n",
        " 'icoord': [[5.0, 5.0, 15.0, 15.0],\n",
        "  [25.0, 25.0, 35.0, 35.0],\n",
        "  [10.0, 10.0, 30.0, 30.0]],\n",
        " 'ivl': ['1', '3', '0', '2'],\n",
        " 'leaves': [1, 3, 0, 2]}"
       ]
      },
      {
       "metadata": {},
       "output_type": "display_data",
       "png": "[encoded data removed]",
       "text": [
        "<matplotlib.figure.Figure at 0x5a54910>"
       ]
      }
     ],
     "prompt_number": 10
    },
    {
     "cell_type": "code",
     "collapsed": false,
     "input": [
      "halla.hierarchy.dendrogram(lymi)"
     ],
     "language": "python",
     "metadata": {},
     "outputs": [
      {
       "output_type": "stream",
       "stream": "stderr",
       "text": [
        "/usr/lib/pymodules/python2.7/matplotlib/axes.py:2667: UserWarning: Attempting to set identical bottom==top results\n",
        "in singular transformations; automatically expanding.\n",
        "bottom=0, top=0.0\n",
        "  + 'bottom=%s, top=%s') % (bottom, top))\n"
       ]
      },
      {
       "metadata": {},
       "output_type": "pyout",
       "prompt_number": 11,
       "text": [
        "{'color_list': ['b', 'b', 'b'],\n",
        " 'dcoord': [[0.0, 0.0, 0.0, 0.0], [0.0, 0.0, 0.0, 0.0], [0.0, 0.0, 0.0, 0.0]],\n",
        " 'icoord': [[25.0, 25.0, 35.0, 35.0],\n",
        "  [15.0, 15.0, 30.0, 30.0],\n",
        "  [5.0, 5.0, 22.5, 22.5]],\n",
        " 'ivl': ['0', '1', '2', '3'],\n",
        " 'leaves': [0, 1, 2, 3]}"
       ]
      },
      {
       "metadata": {},
       "output_type": "display_data",
       "png": "[encoded data removed]",
       "text": [
        "<matplotlib.figure.Figure at 0x5a78250>"
       ]
      }
     ],
     "prompt_number": 11
    },
    {
     "cell_type": "code",
     "collapsed": false,
     "input": [
      "halla.hierarchy.dendrogram(lzmi)"
     ],
     "language": "python",
     "metadata": {},
     "outputs": [
      {
       "metadata": {},
       "output_type": "pyout",
       "prompt_number": 12,
       "text": [
        "{'color_list': ['g', 'r', 'b'],\n",
        " 'dcoord': [[0.0, 0.0, 0.0, 0.0],\n",
        "  [0.0, 0.0, 0.0, 0.0],\n",
        "  [0.0, 0.65440797005578877, 0.65440797005578877, 0.0]],\n",
        " 'icoord': [[5.0, 5.0, 15.0, 15.0],\n",
        "  [25.0, 25.0, 35.0, 35.0],\n",
        "  [10.0, 10.0, 30.0, 30.0]],\n",
        " 'ivl': ['1', '2', '0', '3'],\n",
        " 'leaves': [1, 2, 0, 3]}"
       ]
      },
      {
       "metadata": {},
       "output_type": "display_data",
       "png": "[encoded data removed]",
       "text": [
        "<matplotlib.figure.Figure at 0x5bbef10>"
       ]
      }
     ],
     "prompt_number": 12
    },
    {
     "cell_type": "code",
     "collapsed": false,
     "input": [
      "tx = halla.hierarchy.to_tree( lxmi ) \n",
      "ty = halla.hierarchy.to_tree( lymi )\n",
      "tz = halla.hierarchy.to_tree( lzmi )"
     ],
     "language": "python",
     "metadata": {},
     "outputs": [],
     "prompt_number": 13
    },
    {
     "cell_type": "code",
     "collapsed": false,
     "input": [
      "tx, ty, tz"
     ],
     "language": "python",
     "metadata": {},
     "outputs": [
      {
       "metadata": {},
       "output_type": "pyout",
       "prompt_number": 14,
       "text": [
        "(<scipy.cluster.hierarchy.ClusterNode instance at 0x5a815a8>,\n",
        " <scipy.cluster.hierarchy.ClusterNode instance at 0x5a5f9e0>,\n",
        " <scipy.cluster.hierarchy.ClusterNode instance at 0x5a5f5a8>)"
       ]
      }
     ],
     "prompt_number": 14
    },
    {
     "cell_type": "code",
     "collapsed": false,
     "input": [
      "aOut = halla.hierarchy.reduce_tree_by_layer( [tx] )\n",
      "aOut"
     ],
     "language": "python",
     "metadata": {},
     "outputs": [
      {
       "metadata": {},
       "output_type": "pyout",
       "prompt_number": 15,
       "text": [
        "[(0, [1, 3, 0, 2]),\n",
        " (1, [1, 3]),\n",
        " (1, [0, 2]),\n",
        " (2, [1]),\n",
        " (2, [0]),\n",
        " (2, [3]),\n",
        " (2, [2])]"
       ]
      }
     ],
     "prompt_number": 15
    },
    {
     "cell_type": "code",
     "collapsed": false,
     "input": [
      "zip(*aOut)[0]"
     ],
     "language": "python",
     "metadata": {},
     "outputs": [
      {
       "metadata": {},
       "output_type": "pyout",
       "prompt_number": 16,
       "text": [
        "(0, 1, 1, 2, 2, 2, 2)"
       ]
      }
     ],
     "prompt_number": 16
    },
    {
     "cell_type": "code",
     "collapsed": false,
     "input": [
      "iX = halla.hierarchy.depth_tree( tx ) \n",
      "iY = halla.hierarchy.depth_tree( ty ) \n",
      "iZ = halla.hierarchy.depth_tree( tz ) "
     ],
     "language": "python",
     "metadata": {},
     "outputs": [],
     "prompt_number": 17
    },
    {
     "cell_type": "code",
     "collapsed": false,
     "input": [
      "iX, iY, iZ"
     ],
     "language": "python",
     "metadata": {},
     "outputs": [
      {
       "metadata": {},
       "output_type": "pyout",
       "prompt_number": 23,
       "text": [
        "(3, 4, 3)"
       ]
      }
     ],
     "prompt_number": 23
    },
    {
     "cell_type": "heading",
     "level": 2,
     "metadata": {},
     "source": [
      "Couple Data Trees to Create Hypothesis Tree"
     ]
    },
    {
     "cell_type": "code",
     "collapsed": false,
     "input": [
      "halla.hierarchy.couple_tree( tx, tx )"
     ],
     "language": "python",
     "metadata": {},
     "outputs": [
      {
       "metadata": {},
       "output_type": "pyout",
       "prompt_number": 19,
       "text": [
        "[[([1, 3, 0, 2], [1, 3, 0, 2])],\n",
        " [([1, 3], [1, 3]), ([1, 3], [0, 2]), ([0, 2], [1, 3]), ([0, 2], [0, 2])],\n",
        " [([1], [1]),\n",
        "  ([1], [0]),\n",
        "  ([1], [3]),\n",
        "  ([1], [2]),\n",
        "  ([0], [1]),\n",
        "  ([0], [0]),\n",
        "  ([0], [3]),\n",
        "  ([0], [2]),\n",
        "  ([3], [1]),\n",
        "  ([3], [0]),\n",
        "  ([3], [3]),\n",
        "  ([3], [2]),\n",
        "  ([2], [1]),\n",
        "  ([2], [0]),\n",
        "  ([2], [3]),\n",
        "  ([2], [2])]]"
       ]
      }
     ],
     "prompt_number": 19
    },
    {
     "cell_type": "code",
     "collapsed": false,
     "input": [
      "halla.hierarchy.couple_tree( ty, ty )"
     ],
     "language": "python",
     "metadata": {},
     "outputs": [
      {
       "metadata": {},
       "output_type": "pyout",
       "prompt_number": 20,
       "text": [
        "[[([0, 1, 2, 3], [0, 1, 2, 3])],\n",
        " [([0], [0]), ([0], [1, 2, 3]), ([1, 2, 3], [0]), ([1, 2, 3], [1, 2, 3])],\n",
        " [([1], [1]), ([1], [2, 3]), ([2, 3], [1]), ([2, 3], [2, 3])],\n",
        " [([2], [2]), ([2], [3]), ([3], [2]), ([3], [3])]]"
       ]
      }
     ],
     "prompt_number": 20
    },
    {
     "cell_type": "code",
     "collapsed": false,
     "input": [
      "halla.hierarchy.couple_tree( tx, tz )"
     ],
     "language": "python",
     "metadata": {},
     "outputs": [
      {
       "metadata": {},
       "output_type": "pyout",
       "prompt_number": 21,
       "text": [
        "[[([1, 3, 0, 2], [1, 2, 0, 3])],\n",
        " [([1, 3], [1, 2]), ([1, 3], [0, 3]), ([0, 2], [1, 2]), ([0, 2], [0, 3])],\n",
        " [([1], [1]),\n",
        "  ([1], [0]),\n",
        "  ([1], [2]),\n",
        "  ([1], [3]),\n",
        "  ([0], [1]),\n",
        "  ([0], [0]),\n",
        "  ([0], [2]),\n",
        "  ([0], [3]),\n",
        "  ([3], [1]),\n",
        "  ([3], [0]),\n",
        "  ([3], [2]),\n",
        "  ([3], [3]),\n",
        "  ([2], [1]),\n",
        "  ([2], [0]),\n",
        "  ([2], [2]),\n",
        "  ([2], [3])]]"
       ]
      }
     ],
     "prompt_number": 21
    },
    {
     "cell_type": "code",
     "collapsed": false,
     "input": [
      "halla.hierarchy.couple_tree( tx, ty )"
     ],
     "language": "python",
     "metadata": {},
     "outputs": [
      {
       "metadata": {},
       "output_type": "pyout",
       "prompt_number": 22,
       "text": [
        "[[([1, 3, 0, 2], [0, 1, 2, 3])],\n",
        " [([1, 3], [0]), ([1, 3], [1, 2, 3]), ([0, 2], [0]), ([0, 2], [1, 2, 3])],\n",
        " [([1], [1]),\n",
        "  ([1], [2, 3]),\n",
        "  ([0], [1]),\n",
        "  ([0], [2, 3]),\n",
        "  ([3], [1]),\n",
        "  ([3], [2, 3]),\n",
        "  ([2], [1]),\n",
        "  ([2], [2, 3])]]"
       ]
      }
     ],
     "prompt_number": 22
    },
    {
     "cell_type": "code",
     "collapsed": false,
     "input": [
      "reload(halla.stats); reload(halla.distance); reload(halla.hierarchy)"
     ],
     "language": "python",
     "metadata": {},
     "outputs": [
      {
       "metadata": {},
       "output_type": "pyout",
       "prompt_number": 127,
       "text": [
        "<module 'halla.hierarchy' from 'halla/hierarchy/__init__.py'>"
       ]
      }
     ],
     "prompt_number": 127
    },
    {
     "cell_type": "heading",
     "level": 2,
     "metadata": {},
     "source": [
      "All-against-All Tests"
     ]
    },
    {
     "cell_type": "heading",
     "level": 3,
     "metadata": {},
     "source": [
      "PCA representative; Normalized Mutual Information: X and Y"
     ]
    },
    {
     "cell_type": "code",
     "collapsed": false,
     "input": [
      "halla.hierarchy.all_against_all( tx, ty, x, y )"
     ],
     "language": "python",
     "metadata": {},
     "outputs": [
      {
       "metadata": {},
       "output_type": "pyout",
       "prompt_number": 128,
       "text": [
        "[[([1, 3, 0, 2], [0, 1, 2, 3]), 0.82999999999999996],\n",
        " [([1, 3], [0]), 0.505],\n",
        " [([1, 3], [1, 2, 3]), 0.505],\n",
        " [([0, 2], [0]), 0.84499999999999997],\n",
        " [([0, 2], [1, 2, 3]), 0.875],\n",
        " [([1], [1]), 0.505],\n",
        " [([1], [2, 3]), 0.505],\n",
        " [([0], [1]), 0.84999999999999998],\n",
        " [([0], [2, 3]), 0.81999999999999995],\n",
        " [([3], [1]), 0.505],\n",
        " [([3], [2, 3]), 0.505],\n",
        " [([2], [1]), 0.86499999999999999],\n",
        " [([2], [2, 3]), 0.81999999999999995]]"
       ]
      }
     ],
     "prompt_number": 128
    },
    {
     "cell_type": "heading",
     "level": 3,
     "metadata": {},
     "source": [
      "PCA representative; Normalized Mutual Information: X and X "
     ]
    },
    {
     "cell_type": "code",
     "collapsed": false,
     "input": [
      "halla.hierarchy.all_against_all( tx, tx, x, x )"
     ],
     "language": "python",
     "metadata": {},
     "outputs": [
      {
       "metadata": {},
       "output_type": "pyout",
       "prompt_number": 129,
       "text": [
        "[[([1, 3, 0, 2], [1, 3, 0, 2]), 0.81999999999999995],\n",
        " [([1, 3], [1, 3]), 0.88],\n",
        " [([1, 3], [0, 2]), 0.505],\n",
        " [([0, 2], [1, 3]), 0.505],\n",
        " [([0, 2], [0, 2]), 0.84999999999999998],\n",
        " [([1], [1]), 0.90500000000000003],\n",
        " [([1], [0]), 0.505],\n",
        " [([1], [3]), 0.40000000000000002],\n",
        " [([1], [2]), 0.505],\n",
        " [([0], [1]), 0.505],\n",
        " [([0], [0]), 0.81999999999999995],\n",
        " [([0], [3]), 0.505],\n",
        " [([0], [2]), 0.81499999999999995],\n",
        " [([3], [1]), 0.41499999999999998],\n",
        " [([3], [0]), 0.505],\n",
        " [([3], [3]), 0.87],\n",
        " [([3], [2]), 0.505],\n",
        " [([2], [1]), 0.505],\n",
        " [([2], [0]), 0.83999999999999997],\n",
        " [([2], [3]), 0.505],\n",
        " [([2], [2]), 0.84499999999999997]]"
       ]
      }
     ],
     "prompt_number": 129
    },
    {
     "cell_type": "heading",
     "level": 3,
     "metadata": {},
     "source": [
      "Average representative; Normalized Mutual Information: X and Y"
     ]
    },
    {
     "cell_type": "code",
     "collapsed": false,
     "input": [
      "halla.hierarchy.all_against_all( tx, ty, x, y, method=\"permutation_test_by_average\" )"
     ],
     "language": "python",
     "metadata": {},
     "outputs": [
      {
       "metadata": {},
       "output_type": "pyout",
       "prompt_number": 130,
       "text": [
        "[[([1, 3, 0, 2], [0, 1, 2, 3]), 0.505],\n",
        " [([1, 3], [0]), 0.505],\n",
        " [([1, 3], [1, 2, 3]), 0.505],\n",
        " [([0, 2], [0]), 0.505],\n",
        " [([0, 2], [1, 2, 3]), 0.505],\n",
        " [([1], [1]), 0.505],\n",
        " [([1], [2, 3]), 0.505],\n",
        " [([0], [1]), 0.505],\n",
        " [([0], [2, 3]), 0.505],\n",
        " [([3], [1]), 0.505],\n",
        " [([3], [2, 3]), 0.505],\n",
        " [([2], [1]), 0.505],\n",
        " [([2], [2, 3]), 0.505]]"
       ]
      }
     ],
     "prompt_number": 130
    },
    {
     "cell_type": "heading",
     "level": 3,
     "metadata": {},
     "source": [
      "Average representative; Normalized Mutual Information: X and X "
     ]
    },
    {
     "cell_type": "code",
     "collapsed": false,
     "input": [
      "halla.hierarchy.all_against_all( tx, tx, x, x, method=\"permutation_test_by_average\" )"
     ],
     "language": "python",
     "metadata": {},
     "outputs": [
      {
       "metadata": {},
       "output_type": "pyout",
       "prompt_number": 131,
       "text": [
        "[[([1, 3, 0, 2], [1, 3, 0, 2]), 0.97999999999999998],\n",
        " [([1, 3], [1, 3]), 0.98499999999999999],\n",
        " [([1, 3], [0, 2]), 0.505],\n",
        " [([0, 2], [1, 3]), 0.505],\n",
        " [([0, 2], [0, 2]), 0.505],\n",
        " [([1], [1]), 0.875],\n",
        " [([1], [0]), 0.505],\n",
        " [([1], [3]), 0.88500000000000001],\n",
        " [([1], [2]), 0.505],\n",
        " [([0], [1]), 0.505],\n",
        " [([0], [0]), 0.505],\n",
        " [([0], [3]), 0.505],\n",
        " [([0], [2]), 0.505],\n",
        " [([3], [1]), 0.85499999999999998],\n",
        " [([3], [0]), 0.505],\n",
        " [([3], [3]), 0.82999999999999996],\n",
        " [([3], [2]), 0.505],\n",
        " [([2], [1]), 0.505],\n",
        " [([2], [0]), 0.505],\n",
        " [([2], [3]), 0.505],\n",
        " [([2], [2]), 0.505]]"
       ]
      }
     ],
     "prompt_number": 131
    },
    {
     "cell_type": "heading",
     "level": 3,
     "metadata": {},
     "source": [
      "Average representative; Pearsonr: X and Y"
     ]
    },
    {
     "cell_type": "code",
     "collapsed": false,
     "input": [
      "aOut = halla.hierarchy.all_against_all( tx, ty, x, y, method = \"permutation_test_by_average\", metric = \"pearsonr\" )\n",
      "plt.plot( sorted( zip(*aOut)[1] ) )\n",
      "aOut"
     ],
     "language": "python",
     "metadata": {},
     "outputs": [
      {
       "metadata": {},
       "output_type": "pyout",
       "prompt_number": 162,
       "text": [
        "[[([1, 3, 0, 2], [0, 1, 2, 3]), 0.505],\n",
        " [([1, 3], [0]), 0.505],\n",
        " [([1, 3], [1, 2, 3]), 0.505],\n",
        " [([0, 2], [0]), 0.505],\n",
        " [([0, 2], [1, 2, 3]), 0.505],\n",
        " [([1], [1]), 0.505],\n",
        " [([1], [2, 3]), 0.505],\n",
        " [([0], [1]), 0.505],\n",
        " [([0], [2, 3]), 0.505],\n",
        " [([3], [1]), 0.505],\n",
        " [([3], [2, 3]), 0.505],\n",
        " [([2], [1]), 0.505],\n",
        " [([2], [2, 3]), 0.505]]"
       ]
      },
      {
       "metadata": {},
       "output_type": "display_data",
       "png": "[encoded data removed]",
       "text": [
        "<matplotlib.figure.Figure at 0x67bff10>"
       ]
      }
     ],
     "prompt_number": 162
    },
    {
     "cell_type": "heading",
     "level": 3,
     "metadata": {},
     "source": [
      "Average representative; Pearsonr: X and X"
     ]
    },
    {
     "cell_type": "code",
     "collapsed": false,
     "input": [
      "halla.hierarchy.all_against_all( tx, tx, x, x, method = \"permutation_test_by_average\", metric= \"pearsonr\" )\n",
      "plt.plot( sorted( zip(*aOut)[1] ) )\n",
      "aOut"
     ],
     "language": "python",
     "metadata": {},
     "outputs": [
      {
       "metadata": {},
       "output_type": "pyout",
       "prompt_number": 163,
       "text": [
        "[[([1, 3, 0, 2], [0, 1, 2, 3]), 0.505],\n",
        " [([1, 3], [0]), 0.505],\n",
        " [([1, 3], [1, 2, 3]), 0.505],\n",
        " [([0, 2], [0]), 0.505],\n",
        " [([0, 2], [1, 2, 3]), 0.505],\n",
        " [([1], [1]), 0.505],\n",
        " [([1], [2, 3]), 0.505],\n",
        " [([0], [1]), 0.505],\n",
        " [([0], [2, 3]), 0.505],\n",
        " [([3], [1]), 0.505],\n",
        " [([3], [2, 3]), 0.505],\n",
        " [([2], [1]), 0.505],\n",
        " [([2], [2, 3]), 0.505]]"
       ]
      },
      {
       "metadata": {},
       "output_type": "display_data",
       "png": "[encoded data removed]",
       "text": [
        "<matplotlib.figure.Figure at 0x6a54d10>"
       ]
      }
     ],
     "prompt_number": 163
    },
    {
     "cell_type": "heading",
     "level": 3,
     "metadata": {},
     "source": [
      "Average representative; Spearmanr: X and Y"
     ]
    },
    {
     "cell_type": "code",
     "collapsed": false,
     "input": [
      "halla.hierarchy.all_against_all( tx, ty, x, y, method = \"permutation_test_by_average\", metric = \"spearmanr\" )"
     ],
     "language": "python",
     "metadata": {},
     "outputs": [
      {
       "metadata": {},
       "output_type": "pyout",
       "prompt_number": 134,
       "text": [
        "[[([1, 3, 0, 2], [0, 1, 2, 3]), 0.505],\n",
        " [([1, 3], [0]), 0.505],\n",
        " [([1, 3], [1, 2, 3]), 0.505],\n",
        " [([0, 2], [0]), 0.505],\n",
        " [([0, 2], [1, 2, 3]), 0.505],\n",
        " [([1], [1]), 0.505],\n",
        " [([1], [2, 3]), 0.505],\n",
        " [([0], [1]), 0.505],\n",
        " [([0], [2, 3]), 0.505],\n",
        " [([3], [1]), 0.505],\n",
        " [([3], [2, 3]), 0.505],\n",
        " [([2], [1]), 0.505],\n",
        " [([2], [2, 3]), 0.505]]"
       ]
      }
     ],
     "prompt_number": 134
    },
    {
     "cell_type": "heading",
     "level": 3,
     "metadata": {},
     "source": [
      "Average representative; Spearmanr: X and X"
     ]
    },
    {
     "cell_type": "code",
     "collapsed": false,
     "input": [
      "halla.hierarchy.all_against_all( tx, tx, x, x, method = \"permutation_test_by_average\", metric= \"spearmanr\" )"
     ],
     "language": "python",
     "metadata": {},
     "outputs": [
      {
       "metadata": {},
       "output_type": "pyout",
       "prompt_number": 135,
       "text": [
        "[[([1, 3, 0, 2], [1, 3, 0, 2]), 0.98499999999999999],\n",
        " [([1, 3], [1, 3]), 0.995],\n",
        " [([1, 3], [0, 2]), 0.505],\n",
        " [([0, 2], [1, 3]), 0.505],\n",
        " [([0, 2], [0, 2]), 0.505],\n",
        " [([1], [1]), 0.88500000000000001],\n",
        " [([1], [0]), 0.505],\n",
        " [([1], [3]), 0.88],\n",
        " [([1], [2]), 0.505],\n",
        " [([0], [1]), 0.505],\n",
        " [([0], [0]), 0.505],\n",
        " [([0], [3]), 0.505],\n",
        " [([0], [2]), 0.505],\n",
        " [([3], [1]), 0.875],\n",
        " [([3], [0]), 0.505],\n",
        " [([3], [3]), 0.875],\n",
        " [([3], [2]), 0.505],\n",
        " [([2], [1]), 0.505],\n",
        " [([2], [0]), 0.505],\n",
        " [([2], [3]), 0.505],\n",
        " [([2], [2]), 0.505]]"
       ]
      }
     ],
     "prompt_number": 135
    },
    {
     "cell_type": "heading",
     "level": 3,
     "metadata": {},
     "source": [
      "Parametric Test using Incomplete Beta Function; Pearsonr and Spearmanr: X and X"
     ]
    },
    {
     "cell_type": "code",
     "collapsed": false,
     "input": [
      "aOut = halla.hierarchy.all_against_all( tx, tx, x, x, method = \"parametric_test\" )\n",
      "pP, pS = zip(*zip(*aOut)[1])[0],zip(*zip(*aOut)[1])[1]\n",
      "plt.plot( sorted(pP) )\n",
      "plt.figure()\n",
      "plt.plot( sorted(pS) )"
     ],
     "language": "python",
     "metadata": {},
     "outputs": [
      {
       "metadata": {},
       "output_type": "pyout",
       "prompt_number": 153,
       "text": [
        "[<matplotlib.lines.Line2D at 0x5ff5b10>]"
       ]
      },
      {
       "metadata": {},
       "output_type": "display_data",
       "png": "[encoded data removed]",
       "text": [
        "<matplotlib.figure.Figure at 0x5f8d210>"
       ]
      },
      {
       "metadata": {},
       "output_type": "display_data",
       "png": "[encoded data removed]",
       "text": [
        "<matplotlib.figure.Figure at 0x5f8d450>"
       ]
      }
     ],
     "prompt_number": 153
    },
    {
     "cell_type": "heading",
     "level": 3,
     "metadata": {},
     "source": [
      "Parametric Test using Incomplete Beta Function; Pearsonr and Spearmanr: X and Y"
     ]
    },
    {
     "cell_type": "code",
     "collapsed": false,
     "input": [
      "aOut = halla.hierarchy.all_against_all( tx, ty, x, y, method = \"parametric_test\" )\n",
      "pP, pS = zip(*zip(*aOut)[1])[0],zip(*zip(*aOut)[1])[1]\n",
      "plt.plot( sorted(pP) )\n",
      "plt.figure()\n",
      "plt.plot( sorted(pS) )"
     ],
     "language": "python",
     "metadata": {},
     "outputs": [
      {
       "metadata": {},
       "output_type": "pyout",
       "prompt_number": 154,
       "text": [
        "[<matplotlib.lines.Line2D at 0x5edf310>]"
       ]
      },
      {
       "metadata": {},
       "output_type": "display_data",
       "png": "[encoded data removed]",
       "text": [
        "<matplotlib.figure.Figure at 0x5a84890>"
       ]
      },
      {
       "metadata": {},
       "output_type": "display_data",
       "png": "[encoded data removed]",
       "text": [
        "<matplotlib.figure.Figure at 0x6013110>"
       ]
      }
     ],
     "prompt_number": 154
    },
    {
     "cell_type": "code",
     "collapsed": false,
     "input": [],
     "language": "python",
     "metadata": {},
     "outputs": []
    }
   ],
   "metadata": {}
  }
 ]
}